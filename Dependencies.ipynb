{
 "cells": [
  {
   "cell_type": "code",
   "execution_count": 70,
   "metadata": {},
   "outputs": [],
   "source": [
    "import spacy\n",
    "import os\n",
    "import xml.etree.ElementTree as ET\n",
    "import numpy as np\n",
    "from collections import Counter\n",
    "import matplotlib.pyplot as plt\n",
    "from spacy import displacy\n",
    "import scipy.stats"
   ]
  },
  {
   "cell_type": "code",
   "execution_count": 53,
   "metadata": {},
   "outputs": [],
   "source": [
    "from spacy.tokens import Doc\n",
    "# Tokenize only on whitespace to compare spacy tagger with sparv's tags\n",
    "class WhitespaceTokenizer:\n",
    "    def __init__(self, vocab):\n",
    "        self.vocab = vocab\n",
    "\n",
    "    def __call__(self, text):\n",
    "        words = text.split(\" \")\n",
    "        return Doc(self.vocab, words=words)\n",
    "\n",
    "nlp = spacy.load(os.path.join(\"..\", \"sv_model_upos\", \"sv_model0\", \"sv_model_upos0-0.0.0\"))\n",
    "#nlp.tokenizer = WhitespaceTokenizer(nlp.vocab)"
   ]
  },
  {
   "cell_type": "code",
   "execution_count": 54,
   "metadata": {},
   "outputs": [
    {
     "name": "stdout",
     "output_type": "stream",
     "text": [
      "Den DET det True []\n",
      "snabba ADJ amod False []\n",
      "bruna ADJ amod False []\n",
      "räven NOUN nsubj False [Den, snabba, bruna]\n",
      "hoppar VERB ROOT False [räven, hunden, .]\n",
      "över ADP case True []\n",
      "den DET det True []\n",
      "lata ADJ amod False []\n",
      "hunden NOUN obl False [över, den, lata]\n",
      ". PUNCT punct False []\n"
     ]
    }
   ],
   "source": [
    "doc = nlp(\"Den snabba bruna räven hoppar över den lata hunden.\")\n",
    "for token in doc:\n",
    "    print(token.text, token.tag_, token.dep_, token.is_stop,[child for child in token.children])"
   ]
  },
  {
   "cell_type": "code",
   "execution_count": 55,
   "metadata": {},
   "outputs": [
    {
     "data": {
      "text/html": [
       "<span class=\"tex2jax_ignore\"><svg xmlns=\"http://www.w3.org/2000/svg\" xmlns:xlink=\"http://www.w3.org/1999/xlink\" xml:lang=\"sv\" id=\"e1c8d84a0fb94b0ab7a74f389d6cd855-0\" class=\"displacy\" width=\"1625\" height=\"487.0\" direction=\"ltr\" style=\"max-width: none; height: 487.0px; color: #000000; background: #ffffff; font-family: Arial; direction: ltr\">\n",
       "<text class=\"displacy-token\" fill=\"currentColor\" text-anchor=\"middle\" y=\"397.0\">\n",
       "    <tspan class=\"displacy-word\" fill=\"currentColor\" x=\"50\">Den</tspan>\n",
       "    <tspan class=\"displacy-tag\" dy=\"2em\" fill=\"currentColor\" x=\"50\">X</tspan>\n",
       "</text>\n",
       "\n",
       "<text class=\"displacy-token\" fill=\"currentColor\" text-anchor=\"middle\" y=\"397.0\">\n",
       "    <tspan class=\"displacy-word\" fill=\"currentColor\" x=\"225\">snabba</tspan>\n",
       "    <tspan class=\"displacy-tag\" dy=\"2em\" fill=\"currentColor\" x=\"225\">X</tspan>\n",
       "</text>\n",
       "\n",
       "<text class=\"displacy-token\" fill=\"currentColor\" text-anchor=\"middle\" y=\"397.0\">\n",
       "    <tspan class=\"displacy-word\" fill=\"currentColor\" x=\"400\">bruna</tspan>\n",
       "    <tspan class=\"displacy-tag\" dy=\"2em\" fill=\"currentColor\" x=\"400\">X</tspan>\n",
       "</text>\n",
       "\n",
       "<text class=\"displacy-token\" fill=\"currentColor\" text-anchor=\"middle\" y=\"397.0\">\n",
       "    <tspan class=\"displacy-word\" fill=\"currentColor\" x=\"575\">räven</tspan>\n",
       "    <tspan class=\"displacy-tag\" dy=\"2em\" fill=\"currentColor\" x=\"575\">X</tspan>\n",
       "</text>\n",
       "\n",
       "<text class=\"displacy-token\" fill=\"currentColor\" text-anchor=\"middle\" y=\"397.0\">\n",
       "    <tspan class=\"displacy-word\" fill=\"currentColor\" x=\"750\">hoppar</tspan>\n",
       "    <tspan class=\"displacy-tag\" dy=\"2em\" fill=\"currentColor\" x=\"750\">X</tspan>\n",
       "</text>\n",
       "\n",
       "<text class=\"displacy-token\" fill=\"currentColor\" text-anchor=\"middle\" y=\"397.0\">\n",
       "    <tspan class=\"displacy-word\" fill=\"currentColor\" x=\"925\">över</tspan>\n",
       "    <tspan class=\"displacy-tag\" dy=\"2em\" fill=\"currentColor\" x=\"925\">X</tspan>\n",
       "</text>\n",
       "\n",
       "<text class=\"displacy-token\" fill=\"currentColor\" text-anchor=\"middle\" y=\"397.0\">\n",
       "    <tspan class=\"displacy-word\" fill=\"currentColor\" x=\"1100\">den</tspan>\n",
       "    <tspan class=\"displacy-tag\" dy=\"2em\" fill=\"currentColor\" x=\"1100\">X</tspan>\n",
       "</text>\n",
       "\n",
       "<text class=\"displacy-token\" fill=\"currentColor\" text-anchor=\"middle\" y=\"397.0\">\n",
       "    <tspan class=\"displacy-word\" fill=\"currentColor\" x=\"1275\">lata</tspan>\n",
       "    <tspan class=\"displacy-tag\" dy=\"2em\" fill=\"currentColor\" x=\"1275\">X</tspan>\n",
       "</text>\n",
       "\n",
       "<text class=\"displacy-token\" fill=\"currentColor\" text-anchor=\"middle\" y=\"397.0\">\n",
       "    <tspan class=\"displacy-word\" fill=\"currentColor\" x=\"1450\">hunden.</tspan>\n",
       "    <tspan class=\"displacy-tag\" dy=\"2em\" fill=\"currentColor\" x=\"1450\">X</tspan>\n",
       "</text>\n",
       "\n",
       "<g class=\"displacy-arrow\">\n",
       "    <path class=\"displacy-arc\" id=\"arrow-e1c8d84a0fb94b0ab7a74f389d6cd855-0-0\" stroke-width=\"2px\" d=\"M70,352.0 C70,89.5 570.0,89.5 570.0,352.0\" fill=\"none\" stroke=\"currentColor\"/>\n",
       "    <text dy=\"1.25em\" style=\"font-size: 0.8em; letter-spacing: 1px\">\n",
       "        <textPath xlink:href=\"#arrow-e1c8d84a0fb94b0ab7a74f389d6cd855-0-0\" class=\"displacy-label\" startOffset=\"50%\" side=\"left\" fill=\"currentColor\" text-anchor=\"middle\">det</textPath>\n",
       "    </text>\n",
       "    <path class=\"displacy-arrowhead\" d=\"M70,354.0 L62,342.0 78,342.0\" fill=\"currentColor\"/>\n",
       "</g>\n",
       "\n",
       "<g class=\"displacy-arrow\">\n",
       "    <path class=\"displacy-arc\" id=\"arrow-e1c8d84a0fb94b0ab7a74f389d6cd855-0-1\" stroke-width=\"2px\" d=\"M245,352.0 C245,177.0 565.0,177.0 565.0,352.0\" fill=\"none\" stroke=\"currentColor\"/>\n",
       "    <text dy=\"1.25em\" style=\"font-size: 0.8em; letter-spacing: 1px\">\n",
       "        <textPath xlink:href=\"#arrow-e1c8d84a0fb94b0ab7a74f389d6cd855-0-1\" class=\"displacy-label\" startOffset=\"50%\" side=\"left\" fill=\"currentColor\" text-anchor=\"middle\">amod</textPath>\n",
       "    </text>\n",
       "    <path class=\"displacy-arrowhead\" d=\"M245,354.0 L237,342.0 253,342.0\" fill=\"currentColor\"/>\n",
       "</g>\n",
       "\n",
       "<g class=\"displacy-arrow\">\n",
       "    <path class=\"displacy-arc\" id=\"arrow-e1c8d84a0fb94b0ab7a74f389d6cd855-0-2\" stroke-width=\"2px\" d=\"M420,352.0 C420,264.5 560.0,264.5 560.0,352.0\" fill=\"none\" stroke=\"currentColor\"/>\n",
       "    <text dy=\"1.25em\" style=\"font-size: 0.8em; letter-spacing: 1px\">\n",
       "        <textPath xlink:href=\"#arrow-e1c8d84a0fb94b0ab7a74f389d6cd855-0-2\" class=\"displacy-label\" startOffset=\"50%\" side=\"left\" fill=\"currentColor\" text-anchor=\"middle\">amod</textPath>\n",
       "    </text>\n",
       "    <path class=\"displacy-arrowhead\" d=\"M420,354.0 L412,342.0 428,342.0\" fill=\"currentColor\"/>\n",
       "</g>\n",
       "\n",
       "<g class=\"displacy-arrow\">\n",
       "    <path class=\"displacy-arc\" id=\"arrow-e1c8d84a0fb94b0ab7a74f389d6cd855-0-3\" stroke-width=\"2px\" d=\"M595,352.0 C595,264.5 735.0,264.5 735.0,352.0\" fill=\"none\" stroke=\"currentColor\"/>\n",
       "    <text dy=\"1.25em\" style=\"font-size: 0.8em; letter-spacing: 1px\">\n",
       "        <textPath xlink:href=\"#arrow-e1c8d84a0fb94b0ab7a74f389d6cd855-0-3\" class=\"displacy-label\" startOffset=\"50%\" side=\"left\" fill=\"currentColor\" text-anchor=\"middle\">nsubj</textPath>\n",
       "    </text>\n",
       "    <path class=\"displacy-arrowhead\" d=\"M595,354.0 L587,342.0 603,342.0\" fill=\"currentColor\"/>\n",
       "</g>\n",
       "\n",
       "<g class=\"displacy-arrow\">\n",
       "    <path class=\"displacy-arc\" id=\"arrow-e1c8d84a0fb94b0ab7a74f389d6cd855-0-4\" stroke-width=\"2px\" d=\"M945,352.0 C945,89.5 1445.0,89.5 1445.0,352.0\" fill=\"none\" stroke=\"currentColor\"/>\n",
       "    <text dy=\"1.25em\" style=\"font-size: 0.8em; letter-spacing: 1px\">\n",
       "        <textPath xlink:href=\"#arrow-e1c8d84a0fb94b0ab7a74f389d6cd855-0-4\" class=\"displacy-label\" startOffset=\"50%\" side=\"left\" fill=\"currentColor\" text-anchor=\"middle\">case</textPath>\n",
       "    </text>\n",
       "    <path class=\"displacy-arrowhead\" d=\"M945,354.0 L937,342.0 953,342.0\" fill=\"currentColor\"/>\n",
       "</g>\n",
       "\n",
       "<g class=\"displacy-arrow\">\n",
       "    <path class=\"displacy-arc\" id=\"arrow-e1c8d84a0fb94b0ab7a74f389d6cd855-0-5\" stroke-width=\"2px\" d=\"M1120,352.0 C1120,177.0 1440.0,177.0 1440.0,352.0\" fill=\"none\" stroke=\"currentColor\"/>\n",
       "    <text dy=\"1.25em\" style=\"font-size: 0.8em; letter-spacing: 1px\">\n",
       "        <textPath xlink:href=\"#arrow-e1c8d84a0fb94b0ab7a74f389d6cd855-0-5\" class=\"displacy-label\" startOffset=\"50%\" side=\"left\" fill=\"currentColor\" text-anchor=\"middle\">det</textPath>\n",
       "    </text>\n",
       "    <path class=\"displacy-arrowhead\" d=\"M1120,354.0 L1112,342.0 1128,342.0\" fill=\"currentColor\"/>\n",
       "</g>\n",
       "\n",
       "<g class=\"displacy-arrow\">\n",
       "    <path class=\"displacy-arc\" id=\"arrow-e1c8d84a0fb94b0ab7a74f389d6cd855-0-6\" stroke-width=\"2px\" d=\"M1295,352.0 C1295,264.5 1435.0,264.5 1435.0,352.0\" fill=\"none\" stroke=\"currentColor\"/>\n",
       "    <text dy=\"1.25em\" style=\"font-size: 0.8em; letter-spacing: 1px\">\n",
       "        <textPath xlink:href=\"#arrow-e1c8d84a0fb94b0ab7a74f389d6cd855-0-6\" class=\"displacy-label\" startOffset=\"50%\" side=\"left\" fill=\"currentColor\" text-anchor=\"middle\">amod</textPath>\n",
       "    </text>\n",
       "    <path class=\"displacy-arrowhead\" d=\"M1295,354.0 L1287,342.0 1303,342.0\" fill=\"currentColor\"/>\n",
       "</g>\n",
       "\n",
       "<g class=\"displacy-arrow\">\n",
       "    <path class=\"displacy-arc\" id=\"arrow-e1c8d84a0fb94b0ab7a74f389d6cd855-0-7\" stroke-width=\"2px\" d=\"M770,352.0 C770,2.0 1450.0,2.0 1450.0,352.0\" fill=\"none\" stroke=\"currentColor\"/>\n",
       "    <text dy=\"1.25em\" style=\"font-size: 0.8em; letter-spacing: 1px\">\n",
       "        <textPath xlink:href=\"#arrow-e1c8d84a0fb94b0ab7a74f389d6cd855-0-7\" class=\"displacy-label\" startOffset=\"50%\" side=\"left\" fill=\"currentColor\" text-anchor=\"middle\">obl</textPath>\n",
       "    </text>\n",
       "    <path class=\"displacy-arrowhead\" d=\"M1450.0,354.0 L1458.0,342.0 1442.0,342.0\" fill=\"currentColor\"/>\n",
       "</g>\n",
       "</svg></span>"
      ],
      "text/plain": [
       "<IPython.core.display.HTML object>"
      ]
     },
     "metadata": {},
     "output_type": "display_data"
    }
   ],
   "source": [
    "displacy.render(doc, style=\"dep\", jupyter=True)"
   ]
  },
  {
   "cell_type": "code",
   "execution_count": 56,
   "metadata": {},
   "outputs": [
    {
     "name": "stdout",
     "output_type": "stream",
     "text": [
      "Den ['((Den))']\n",
      "snabba ['((snabba))']\n",
      "bruna ['((bruna))']\n",
      "räven ['Den', 'snabba', 'bruna', '((räven))']\n",
      "hoppar ['Den', 'snabba', 'bruna', 'räven', '((hoppar))', 'över', 'den', 'lata', 'hunden', '.']\n",
      "över ['((över))']\n",
      "den ['((den))']\n",
      "lata ['((lata))']\n",
      "hunden ['över', 'den', 'lata', '((hunden))']\n",
      ". ['((.))']\n"
     ]
    }
   ],
   "source": [
    "for token in doc: \n",
    "    print(token, [\n",
    "        ('((%s))' if t is token else '%s') % t.text\n",
    "        for t in token.subtree\n",
    "    ])"
   ]
  },
  {
   "cell_type": "code",
   "execution_count": 57,
   "metadata": {},
   "outputs": [
    {
     "name": "stdout",
     "output_type": "stream",
     "text": [
      "hoppar [räven] [Den, snabba, bruna]\n"
     ]
    }
   ],
   "source": [
    "for sent in doc.sents:\n",
    "    print(sent.root, list(sent.root.lefts), list(list(sent.root.lefts)[0].children))"
   ]
  },
  {
   "cell_type": "code",
   "execution_count": 58,
   "metadata": {},
   "outputs": [],
   "source": [
    "def processDoc(doc):\n",
    "    sentence = list(doc.sents)[0]\n",
    "    root = sentence.root\n",
    "    print(\"Sentence: \", sentence)\n",
    "    print(\"Root: \", root)\n",
    "    print(numWords(root))\n",
    "      \n",
    "def recurseTokens(token): \n",
    "    print(\"Processing token: \", token)\n",
    "    if(list(token.children) == []): \n",
    "        print(\"Leaf node\")\n",
    "        return token\n",
    "    print(\"Left tokens: \", [recurseTokens(t) for t in token.lefts], \"of token\", token)\n",
    "    print(\"Right tokens: \", [recurseTokens(t) for t in token.rights], \"of token\", token)\n",
    "    \n",
    "def numWords(token):\n",
    "    if(len(list(token.children))==0): return 1\n",
    "    return 1 + sum([numWords(c) for c in token.children])"
   ]
  },
  {
   "cell_type": "code",
   "execution_count": 59,
   "metadata": {},
   "outputs": [
    {
     "name": "stdout",
     "output_type": "stream",
     "text": [
      "Sentence:  Den snabba bruna räven hoppar över den lata hunden.\n",
      "Root:  hoppar\n",
      "10\n"
     ]
    }
   ],
   "source": [
    "processDoc(doc)"
   ]
  },
  {
   "cell_type": "code",
   "execution_count": 93,
   "metadata": {},
   "outputs": [],
   "source": [
    "# Look at distribution of sentence lengths across languages/times\n",
    "\"\"\"\n",
    "    Process: pass in the function that will process individual sentences\n",
    "    Returns whatever process returns\n",
    "\"\"\"\n",
    "def traverseSwed(filepath, process):\n",
    "    parser = ET.iterparse(file_path, events=('start','end'))\n",
    "    parser = iter(parser)\n",
    "    event, root = next(parser)\n",
    "\n",
    "    words = \"\"\n",
    "    pos = []\n",
    "    sum_overlaps= 0 \n",
    "    num_para = 0\n",
    "    i = 0\n",
    "    ag = []\n",
    "    for event, elem in parser:\n",
    "        if elem.tag == \"w\":\n",
    "            if event == \"end\":\n",
    "                #print(elem.attrib['pos'])\n",
    "                words +=  elem.text + \" \"\n",
    "                pos.append(elem.attrib['pos'])\n",
    "                elem.clear()\n",
    "            root.clear()\n",
    "        if elem.tag == \"sentence\" and event==\"end\":\n",
    "            words = words.strip()\n",
    "            if len(words) == 0: continue\n",
    "            doc = nlp(words)\n",
    "            ag += [process(doc)]\n",
    "            \n",
    "            words = \"\"\n",
    "            pos = []\n",
    "            i += 1\n",
    "        if i == 10000: break\n",
    "    return ag\n",
    "            \n",
    "def traverseFin(filepath, process):\n",
    "    ag = []\n",
    "    num_sentences = 0\n",
    "    with open(file_path) as reader:\n",
    "        words = []\n",
    "        pos = []\n",
    "        for line in reader:\n",
    "            if num_sentences == 10000: return sum_overlaps / num_sentences\n",
    "            # Start of sentence\n",
    "            if line[:9] == \"<sentence\": \n",
    "                #print(\"start sentence\")\n",
    "                words = []\n",
    "                pos_spacy=pos_sparv=pos=[]\n",
    "            # End of sentence\n",
    "            if line[:11] == \"</sentence>\": \n",
    "                if(len(words)) == 0: continue\n",
    "                sent = \" \".join(words)\n",
    "                # print(words)\n",
    "                doc = nlp(sent)\n",
    "                ag += [process(doc)]\n",
    "                \n",
    "                num_sentences += 1\n",
    "            # Split up by sentence\n",
    "            # If at a text line and not just tags\n",
    "            if line[0] != \"<\": \n",
    "                wordInfo = line.split()\n",
    "                #print(wordInfo)\n",
    "                words += [wordInfo[0]]\n",
    "                pos += [wordInfo[1]]\n",
    "            if num_sentences == 10000: break\n",
    "    \n",
    "    return ag\n",
    "\n",
    "def sentenceLength(doc):\n",
    "    # print(doc, len(doc))\n",
    "    return(len(doc))"
   ]
  },
  {
   "cell_type": "code",
   "execution_count": 62,
   "metadata": {},
   "outputs": [],
   "source": [
    "file_path = os.path.join(\"/share/magpie/datasets/Swedish\", \"kubhist2\",\"kubhist2-carlscronaswekoblad-1870.xml\")\n",
    "lengthsSwe = traverseSwed(file_path, sentenceLength)\n",
    "\n",
    "file_path = os.path.join(\"/share/magpie/datasets/Swedish\", \"klk-sv-1771-1879-vrt\", \"klk-sv-1870.vrt\")\n",
    "lengthsFin = traverseFin(file_path, sentenceLength)"
   ]
  },
  {
   "cell_type": "code",
   "execution_count": 76,
   "metadata": {},
   "outputs": [
    {
     "data": {
      "image/png": "[encoded data removed]",
      "text/plain": [
       "<Figure size 432x288 with 1 Axes>"
      ]
     },
     "metadata": {
      "needs_background": "light"
     },
     "output_type": "display_data"
    }
   ],
   "source": [
    "plt.hist(lengthsSwe, range=(0,200), alpha=0.5, label=\"Swedish\")\n",
    "plt.hist(lengthsFin, range=(0,200), alpha=0.5, label=\"Finnish\")\n",
    "plt.legend()\n",
    "plt.show()"
   ]
  },
  {
   "cell_type": "code",
   "execution_count": 82,
   "metadata": {},
   "outputs": [
    {
     "name": "stdout",
     "output_type": "stream",
     "text": [
      "Swedish sentence length stats:  DescribeResult(nobs=10000, minmax=(0, 254), mean=12.352, variance=280.048300830083, skewness=3.334573847587559, kurtosis=18.41410516155351)\n",
      "\n",
      "Finnish sentence length stats:  DescribeResult(nobs=10000, minmax=(1, 390), mean=21.1028, variance=478.29566172617257, skewness=3.396140581473916, kurtosis=25.966390131941175)\n",
      "\n",
      "Independence t-test:  Ttest_indResult(statistic=31.777127855076248, pvalue=7.054680797823418e-216)\n"
     ]
    }
   ],
   "source": [
    "print(\"Swedish sentence length stats: \", scipy.stats.describe(lengthsSwe))\n",
    "print(\"\\nFinnish sentence length stats: \", scipy.stats.describe(lengthsFin))\n",
    "print(\"\\nIndependence t-test: \", scipy.stats.ttest_ind(lengthsFin, lengthsSwe, equal_var=False))"
   ]
  },
  {
   "cell_type": "code",
   "execution_count": null,
   "metadata": {},
   "outputs": [],
   "source": [
    "# Look at evoluion of a single Swedish newspaper\n",
    "file_path = os.path.join(\"/share/magpie/datasets/Swedish\", \"kubhist2\",\"kubhist2-carlscronaswekoblad-1760.xml\")\n",
    "lengthsSweOld = traverseSwed(file_path, sentenceLength)\n",
    "\n",
    "file_path = os.path.join(\"/share/magpie/datasets/Swedish\", \"kubhist2\",\"kubhist2-carlscronaswekoblad-1870.xml\")\n",
    "lengthsSweNew = traverseSwed(file_path, sentenceLength)"
   ]
  },
  {
   "cell_type": "code",
   "execution_count": 95,
   "metadata": {},
   "outputs": [
    {
     "data": {
      "image/png": "[encoded data removed]",
      "text/plain": [
       "<Figure size 432x288 with 1 Axes>"
      ]
     },
     "metadata": {
      "needs_background": "light"
     },
     "output_type": "display_data"
    }
   ],
   "source": [
    "plt.hist(lengthsSweOld, alpha=0.5, label=\"1760\")\n",
    "plt.hist(lengthsSweNew, alpha=0.5, label=\"1870\")\n",
    "plt.legend()\n",
    "plt.title(\"Swedish over time: carlscronaswekoblad\")\n",
    "plt.show()"
   ]
  },
  {
   "cell_type": "code",
   "execution_count": 98,
   "metadata": {},
   "outputs": [
    {
     "name": "stdout",
     "output_type": "stream",
     "text": [
      "1760 sentence length stats:  DescribeResult(nobs=10000, minmax=(1, 216), mean=11.2034, variance=240.31085952595257, skewness=3.9448220025447687, kurtosis=23.270512026475934)\n",
      "\n",
      "1870 sentence length stats:  DescribeResult(nobs=10000, minmax=(1, 249), mean=12.8499, variance=274.01337132713275, skewness=3.311028795005375, kurtosis=18.210123888505795)\n",
      "\n",
      "Independence t-test:  Ttest_indResult(statistic=-7.2601106942866505, pvalue=4.010034402096165e-13)\n"
     ]
    }
   ],
   "source": [
    "print(\"1760 sentence length stats: \", scipy.stats.describe(lengthsSweOld))\n",
    "print(\"\\n1870 sentence length stats: \", scipy.stats.describe(lengthsSweNew))\n",
    "print(\"\\nIndependence t-test: \", scipy.stats.ttest_ind(lengthsSweOld, lengthsSweNew, equal_var=False))"
   ]
  },
  {
   "cell_type": "code",
   "execution_count": 104,
   "metadata": {},
   "outputs": [
    {
     "data": {
      "image/png": "[encoded data removed]",
      "text/plain": [
       "<Figure size 432x288 with 1 Axes>"
      ]
     },
     "metadata": {
      "needs_background": "light"
     },
     "output_type": "display_data"
    },
    {
     "name": "stdout",
     "output_type": "stream",
     "text": [
      "1771 sentence length stats:  DescribeResult(nobs=6336, minmax=(1, 300), mean=18.994318181818183, variance=533.0913647126354, skewness=3.07681277489981, kurtosis=16.30294535111697)\n",
      "\n",
      "1870 sentence length stats:  DescribeResult(nobs=10000, minmax=(1, 379), mean=20.3622, variance=450.1412252825283, skewness=3.390791111858626, kurtosis=26.242927905349074)\n",
      "\n",
      "Independence t-test:  Ttest_indResult(statistic=-3.806270608651313, pvalue=0.00014174407825511128)\n"
     ]
    }
   ],
   "source": [
    "# Look at evoluion across Finnish\n",
    "file_path = os.path.join(\"/share/magpie/datasets/Swedish\", \"klk-sv-1771-1879-vrt\", \"klk-sv-1782.vrt\")\n",
    "lengthsFinOld = traverseFin(file_path, sentenceLength)\n",
    "\n",
    "file_path = os.path.join(\"/share/magpie/datasets/Swedish\", \"klk-sv-1771-1879-vrt\", \"klk-sv-1870.vrt\")\n",
    "lengthsFinNew = traverseFin(file_path, sentenceLength)\n",
    "\n",
    "plt.hist(lengthsFinOld, alpha=0.5, label=\"1760\")\n",
    "plt.hist(lengthsFinNew, alpha=0.5, label=\"1870\")\n",
    "plt.legend()\n",
    "plt.title(\"Finnish over time\")\n",
    "plt.show()\n",
    "\n",
    "print(\"1771 sentence length stats: \", scipy.stats.describe(lengthsFinOld))\n",
    "print(\"\\n1870 sentence length stats: \", scipy.stats.describe(lengthsFinNew))\n",
    "print(\"\\nIndependence t-test: \", scipy.stats.ttest_ind(lengthsFinOld, lengthsFinNew, equal_var=False))"
   ]
  },
  {
   "cell_type": "code",
   "execution_count": null,
   "metadata": {},
   "outputs": [],
   "source": []
  }
 ],
 "metadata": {
  "kernelspec": {
   "display_name": "Python 3",
   "language": "python",
   "name": "python3"
  },
  "language_info": {
   "codemirror_mode": {
    "name": "ipython",
    "version": 3
   },
   "file_extension": ".py",
   "mimetype": "text/x-python",
   "name": "python",
   "nbconvert_exporter": "python",
   "pygments_lexer": "ipython3",
   "version": "3.7.6"
  }
 },
 "nbformat": 4,
 "nbformat_minor": 4
}
