{
 "cells": [
  {
   "cell_type": "code",
   "execution_count": 1,
   "metadata": {},
   "outputs": [
    {
     "name": "stdout",
     "output_type": "stream",
     "text": [
      "base dir is /home/lm686/scandinavian-languages\n",
      "data dir is /share/magpie/datasets/Swedish\n",
      "output dir is /home/lm686/scandinavian-languages/data/Finnish/temp_txt\n",
      "earliest_time is 1740\n"
     ]
    }
   ],
   "source": [
    "import json\n",
    "import matplotlib.pyplot as plt\n",
    "import numpy as np\n",
    "from scipy import stats\n",
    "from scipy import spatial\n",
    "from collections import Counter\n",
    "import os\n",
    "import pickle\n",
    "from math import log\n",
    "import numpy as np\n",
    "from utils import LanguageCounter"
   ]
  },
  {
   "cell_type": "code",
   "execution_count": 2,
   "metadata": {},
   "outputs": [
    {
     "name": "stdout",
     "output_type": "stream",
     "text": [
      "adding decade 1770\n",
      "adding decade 1780\n",
      "adding decade 1790\n",
      "adding decade 1800\n",
      "adding decade 1810\n",
      "adding decade 1820\n",
      "adding decade 1830\n",
      "adding decade 1840\n",
      "adding decade 1850\n",
      "adding decade 1860\n",
      "adding decade 1870\n",
      "adding decade 1780\n",
      "adding decade 1820\n",
      "adding decade 1840\n",
      "adding decade 1860\n",
      "adding decade 1880\n",
      "adding decade 1800\n",
      "adding decade 1760\n",
      "adding decade 1750\n",
      "adding decade 1770\n",
      "adding decade 1790\n",
      "adding decade 1810\n",
      "adding decade 1830\n",
      "adding decade 1850\n",
      "adding decade 1870\n",
      "adding decade 1890\n"
     ]
    }
   ],
   "source": [
    "finCountSource = \"data/Finnish/temp_txt\"\n",
    "sweCountSource = \"data/Swedish/\"\n",
    "decades = [np.datetime64(str(i)) for i in range(1750, 1910, 10)]\n",
    "\n",
    "fin = LanguageCounter(finCountSource)\n",
    "fin.buildCommonCounters(fin.dataPath)\n",
    "\n",
    "swe = LanguageCounter(sweCountSource)\n",
    "swe.buildCommonCounters(swe.dataPath)"
   ]
  },
  {
   "cell_type": "code",
   "execution_count": 4,
   "metadata": {},
   "outputs": [],
   "source": [
    "import pickle\n",
    "with open(\"finCounter.pkl\", 'wb') as f: \n",
    "    pickle.dump(fin, f)\n",
    "with open(\"sweCounter.pkl\", 'wb') as f: \n",
    "    pickle.dump(swe, f)"
   ]
  },
  {
   "cell_type": "markdown",
   "metadata": {},
   "source": [
    "Finnish loanwords found [here](https://www.quora.com/Could-someone-point-to-Finnish-influences-in-the-Swedish-language). Every Finnish loanword is more common in the Finnish text than Swedish texts. Some example words: \n",
    "* Kola: \"to die\", the closest in frequency across both dialects. Likely the most common lonaword. \n",
    "    * Kola more common in Swedish, but can find the \"kuolla\" (Finnish) spelling in Finnish text as well.\n",
    "* Mukja: the endagered fish vendace. Usually used only in the remote northern parts of Sweden. \n",
    "* Memma: adopted from the Finnish word mammi, a Finnish easter pudding. The loanword was created when the pudding was exported to Sweden. "
   ]
  },
  {
   "cell_type": "markdown",
   "metadata": {},
   "source": [
    "## Finnish Loanwords to Swedish "
   ]
  },
  {
   "cell_type": "code",
   "execution_count": 30,
   "metadata": {},
   "outputs": [],
   "source": [
    "from scipy import stats\n",
    "sweWordCount = sum([sum(c.values()) for c in swe.allCounters.values()])\n",
    "finWordCount = sum([sum(c.values()) for c in fin.allCounters.values()]) \n",
    "\n",
    "def getFrequenciesLog(candidates):\n",
    "    for cand in candidates: \n",
    "        finCount = sum([c[cand] for c in fin.allCounters.values()])\n",
    "        sweCount = sum([c[cand] for c in swe.allCounters.values()])\n",
    "        finTotal = sum([sum(c.values()) for c in fin.allCounters.values()])\n",
    "        sweTotal = sum([sum(c.values()) for c in fin.allCounters.values()])\n",
    "        finFreq = (log(finCount+1)-log(finTotal))\n",
    "        sweFreq = (log(sweCount+1)-log(sweTotal))\n",
    "\n",
    "        print(\"Finnish loanword freq {:s}: \\tFinnish: {:4f} \\tSwedish: {:4f} \\t [{:s}]\".format(\n",
    "            cand, finFreq, sweFreq, str(finFreq > sweFreq)\n",
    "        ))\n",
    "        \n",
    "def getFreqsDict(candidates):\n",
    "    candidates_d = {k: [] for k in candidates}\n",
    "    for cand in candidates: \n",
    "        finCount = [c[cand] for c in fin.allCounters.values()]\n",
    "        sweCount = [c[cand] for c in swe.allCounters.values()]\n",
    "        finTotal = [sum(c.values()) for c in fin.allCounters.values()]\n",
    "        sweTotal = [sum(c.values()) for c in fin.allCounters.values()]\n",
    "        finFreqs = [(c[cand])/(sum(c.values()))*100000 for c in fin.allCounters.values()]\n",
    "        sweFreqs = [(c[cand])/(sum(c.values()))*100000 for c in swe.allCounters.values()]\n",
    "\n",
    "        # Average these frequences across all years\n",
    "        finFreq = sum( [(c[cand]) / (sum(c.values()))*100000 for c in fin.allCounters.values()]) / len(fin.allCounters)\n",
    "        sweFreq = sum([(c[cand])/(sum(c.values()))*100000 for c in swe.allCounters.values()]) / len(swe.allCounters)\n",
    "        candidates_d[cand] = (finFreqs, sweFreqs)\n",
    "        \n",
    "        # https://wordhoard.northwestern.edu/userman/analysis-comparewords.html\n",
    "        a, b = sum(finCount), sum(sweCount)\n",
    "        c, d = sum(finTotal), sum(sweTotal)\n",
    "        e1 = c * (a + b) / (c + d)\n",
    "        e2 = d * (a + b) / (c + d)\n",
    "        G2 = 2* (a * np.log(a / e1) + b * np.log(b / e2))\n",
    "        p = 1 - stats.chi2.cdf(G2, 1)\n",
    "        # print(\"G^2 Stat: \", G2)    \n",
    "        \n",
    "        print(\"Finnish loanword freq {:s}: \\tFinnish: {:4f} \\tSwedish: {:4f} \\t [{:s}]\".format(\n",
    "            cand, finFreq, sweFreq, str(p < 0.05)\n",
    "        ))\n",
    "    return candidates_d"
   ]
  },
  {
   "cell_type": "markdown",
   "metadata": {},
   "source": [
    "From Quora Post: [here](https://www.quora.com/Could-someone-point-to-Finnish-influences-in-the-Swedish-language)\n",
    "\n",
    "* Kola: slang for the verb \"to die\", the closest in frequency across both dialects. Likely the most common lonaword. \n",
    "* Mukja: the endagered fish vendace. Usually used only in the remote northern parts of Sweden. \n",
    "* Memma: adopted from the Finnish word mammi, a Finnish easter pudding. The loanword was created when the pudding was exported to Sweden. "
   ]
  },
  {
   "cell_type": "code",
   "execution_count": 27,
   "metadata": {},
   "outputs": [
    {
     "name": "stdout",
     "output_type": "stream",
     "text": [
      "Finnish loanword freq kola: \tFinnish: 0.620426 \tSwedish: 0.469006 \t [True]\n",
      "Finnish loanword freq kova: \tFinnish: 0.011458 \tSwedish: 0.010739 \t [True]\n",
      "Finnish loanword freq pärta: \tFinnish: 0.036104 \tSwedish: 0.001754 \t [True]\n",
      "Finnish loanword freq pulka: \tFinnish: 0.013246 \tSwedish: 0.005780 \t [True]\n",
      "Finnish loanword freq tojs: \tFinnish: 0.000154 \tSwedish: 0.000717 \t [False]\n"
     ]
    },
    {
     "name": "stderr",
     "output_type": "stream",
     "text": [
      "/share/apps/anaconda3/2020.02/lib/python3.7/site-packages/ipykernel_launcher.py:34: RuntimeWarning: divide by zero encountered in log\n",
      "/share/apps/anaconda3/2020.02/lib/python3.7/site-packages/ipykernel_launcher.py:34: RuntimeWarning: invalid value encountered in double_scalars\n"
     ]
    },
    {
     "name": "stdout",
     "output_type": "stream",
     "text": [
      "Finnish loanword freq mujka: \tFinnish: 0.000855 \tSwedish: 0.000000 \t [False]\n",
      "Finnish loanword freq memma: \tFinnish: 0.036777 \tSwedish: 0.000000 \t [False]\n",
      "Finnish loanword freq rapakivi: \tFinnish: 0.005688 \tSwedish: 0.000000 \t [False]\n",
      "Finnish loanword freq koling: \tFinnish: 0.002480 \tSwedish: 0.000613 \t [True]\n"
     ]
    }
   ],
   "source": [
    "cand_freqs = getFreqsDict([\"kola\", \"kova\", \"pärta\", \"pulka\", \"tojs\", \"mujka\", \"memma\", \"rapakivi\", \"koling\"])"
   ]
  },
  {
   "cell_type": "markdown",
   "metadata": {},
   "source": [
    "* [Bane](https://en.wiktionary.org/wiki/Category:Swedish_terms_borrowed_from_Old_Swedish): Borrowed from Old Swedish and became popular again around 17th century, so both langauges seem to use it a lot\n",
    "* [Mink](https://en.wiktionary.org/wiki/mink#Swedish): Slightly more common in Finnish texts, where mink is actually grown. "
   ]
  },
  {
   "cell_type": "code",
   "execution_count": 28,
   "metadata": {},
   "outputs": [
    {
     "name": "stdout",
     "output_type": "stream",
     "text": [
      "Finnish loanword freq bane: \tFinnish: 0.764956 \tSwedish: 1.391668 \t [False]\n",
      "Finnish loanword freq mink: \tFinnish: 0.050971 \tSwedish: 0.204252 \t [True]\n"
     ]
    }
   ],
   "source": [
    "cand_freqs = getFreqsDict([\"bane\", \"mink\"]) "
   ]
  },
  {
   "cell_type": "markdown",
   "metadata": {},
   "source": [
    "## Comparing Swedish vs. Finnish version of the loanwords: \n",
    "\n",
    "* [Kova vs. Raha](https://www.quora.com/Could-someone-point-to-Finnish-influences-in-the-Swedish-language): Raha=coins in Finnish, phrase \"kova raha.\" Kova is more common in Swedish, and we see some instances of raha in Finnish/none in Swedish\n",
    "    * Kova (loanword) more common in Swedish, but the original Finnish word more common in FS. \n",
    "    * Finnish word more common than the Swedish adaptation for FS text! (0.1355 > 0.1260)\n",
    "* [Pojke vs. poika](https://blogs.transparent.com/swedish/loan-words-in-swedish/): pojke is the Swedish loanword for the Finnish word poika. \"Pojke\" is more common in the Swedish texts, and \"poika\" is more common in the Finnish texts. \n",
    "    * Pojke (loanword) more common in Swedish, but the original Finnish woord is more common in FS texts than the loanword. \n",
    "* [Talko vs. talkoot](https://en.wiktionary.org/wiki/talko#Swedish): Loanword from Finnish word talkoot. Neither version occurs in the Swedish text, and a little rare in the Finnish text. "
   ]
  },
  {
   "cell_type": "code",
   "execution_count": 29,
   "metadata": {},
   "outputs": [
    {
     "name": "stdout",
     "output_type": "stream",
     "text": [
      "Finnish loanword freq kova: \tFinnish: 0.011458 \tSwedish: 0.010739 \t [True]\n"
     ]
    },
    {
     "name": "stderr",
     "output_type": "stream",
     "text": [
      "/share/apps/anaconda3/2020.02/lib/python3.7/site-packages/ipykernel_launcher.py:34: RuntimeWarning: divide by zero encountered in log\n",
      "/share/apps/anaconda3/2020.02/lib/python3.7/site-packages/ipykernel_launcher.py:34: RuntimeWarning: invalid value encountered in double_scalars\n"
     ]
    },
    {
     "name": "stdout",
     "output_type": "stream",
     "text": [
      "Finnish loanword freq raha: \tFinnish: 0.012326 \tSwedish: 0.000000 \t [False]\n",
      "Finnish loanword freq pojke: \tFinnish: 0.290092 \tSwedish: 0.458642 \t [True]\n",
      "Finnish loanword freq poika: \tFinnish: 0.111841 \tSwedish: 0.001719 \t [True]\n",
      "Finnish loanword freq talko: \tFinnish: 0.004392 \tSwedish: 0.000000 \t [False]\n",
      "Finnish loanword freq talkoot: \tFinnish: 0.000222 \tSwedish: 0.000000 \t [False]\n"
     ]
    }
   ],
   "source": [
    "cand_freqs = getFreqsDict([\"kova\", \"raha\", \"pojke\", \"poika\", \"talko\", \"talkoot\"])"
   ]
  },
  {
   "cell_type": "markdown",
   "metadata": {},
   "source": [
    "## Trying to pinpoint the \"start\" of a loanword"
   ]
  },
  {
   "cell_type": "code",
   "execution_count": 5,
   "metadata": {},
   "outputs": [],
   "source": [
    "finYears = list(fin.allCounters.keys()) # [y.astype(datetime) for y in fin.allCounters.keys()]\n",
    "sweYears = list(swe.allCounters.keys())# [y.astype(datetime) for y in swe.allCounters.keys()]"
   ]
  },
  {
   "cell_type": "code",
   "execution_count": 9,
   "metadata": {},
   "outputs": [
    {
     "name": "stdout",
     "output_type": "stream",
     "text": [
      "Finnish loanword freq kola: \tFinnish: 0.620426 \tSwedish: 0.469006 \t [True]\n"
     ]
    },
    {
     "data": {
      "text/plain": [
       "<matplotlib.legend.Legend at 0x7f2c644fc310>"
      ]
     },
     "execution_count": 9,
     "metadata": {},
     "output_type": "execute_result"
    },
    {
     "data": {
      "image/png": "[encoded data removed]",
      "text/plain": [
       "<Figure size 432x288 with 1 Axes>"
      ]
     },
     "metadata": {
      "needs_background": "light"
     },
     "output_type": "display_data"
    }
   ],
   "source": [
    "candidates_d = getFreqsDict([\"kola\"])\n",
    "\n",
    "plt.plot(finYears, candidates_d['kola'][0], label=\"Finnish-kola\") # TODO: Cast as a date and better x-axis formatting\n",
    "plt.plot(sweYears, candidates_d['kola'][1], label=\"Swedish-kola\")\n",
    "plt.legend()"
   ]
  },
  {
   "cell_type": "code",
   "execution_count": 10,
   "metadata": {},
   "outputs": [
    {
     "name": "stdout",
     "output_type": "stream",
     "text": [
      "Finnish loanword freq memma: \tFinnish: 0.036777 \tSwedish: 0.000000 \t [True]\n"
     ]
    },
    {
     "data": {
      "text/plain": [
       "<matplotlib.legend.Legend at 0x7f2c6455e850>"
      ]
     },
     "execution_count": 10,
     "metadata": {},
     "output_type": "execute_result"
    },
    {
     "data": {
      "image/png": "[encoded data removed]",
      "text/plain": [
       "<Figure size 432x288 with 1 Axes>"
      ]
     },
     "metadata": {
      "needs_background": "light"
     },
     "output_type": "display_data"
    }
   ],
   "source": [
    "candidates_d = getFreqsDict([\"memma\"])\n",
    "plt.plot(finYears, candidates_d['memma'][0], label=\"Finnish-memma\")\n",
    "plt.plot(sweYears, candidates_d['memma'][1], label=\"Swedish-memma\")\n",
    "plt.legend()"
   ]
  },
  {
   "cell_type": "code",
   "execution_count": 11,
   "metadata": {},
   "outputs": [
    {
     "name": "stdout",
     "output_type": "stream",
     "text": [
      "Finnish loanword freq raha: \tFinnish: 0.012326 \tSwedish: 0.000000 \t [True]\n",
      "Finnish loanword freq kova: \tFinnish: 0.011458 \tSwedish: 0.010739 \t [True]\n"
     ]
    },
    {
     "data": {
      "text/plain": [
       "<matplotlib.legend.Legend at 0x7f2c6463f5d0>"
      ]
     },
     "execution_count": 11,
     "metadata": {},
     "output_type": "execute_result"
    },
    {
     "data": {
      "image/png": "[encoded data removed]",
      "text/plain": [
       "<Figure size 432x288 with 1 Axes>"
      ]
     },
     "metadata": {
      "needs_background": "light"
     },
     "output_type": "display_data"
    }
   ],
   "source": [
    "candidates_d = getFreqsDict([\"raha\", \"kova\"])\n",
    "plt.plot(finYears, candidates_d['raha'][0], label=\"Finnish-raha\")\n",
    "plt.plot(sweYears, candidates_d['raha'][1], label=\"Swedish-raha\")\n",
    "plt.plot(finYears, candidates_d['kova'][0], label=\"Finnish-kova\")\n",
    "plt.plot(sweYears, candidates_d['kova'][1], label=\"Swedish-kova\")\n",
    "plt.legend()"
   ]
  },
  {
   "cell_type": "code",
   "execution_count": 12,
   "metadata": {},
   "outputs": [
    {
     "name": "stdout",
     "output_type": "stream",
     "text": [
      "Finnish loanword freq pojke: \tFinnish: 0.290092 \tSwedish: 0.458642 \t [False]\n",
      "Finnish loanword freq poika: \tFinnish: 0.111841 \tSwedish: 0.001719 \t [True]\n"
     ]
    },
    {
     "data": {
      "text/plain": [
       "<matplotlib.legend.Legend at 0x7f2c6470ffd0>"
      ]
     },
     "execution_count": 12,
     "metadata": {},
     "output_type": "execute_result"
    },
    {
     "data": {
      "image/png": "[encoded data removed]",
      "text/plain": [
       "<Figure size 432x288 with 1 Axes>"
      ]
     },
     "metadata": {
      "needs_background": "light"
     },
     "output_type": "display_data"
    }
   ],
   "source": [
    "candidates_d = getFreqsDict([\"pojke\", \"poika\"])\n",
    "plt.plot(finYears, candidates_d['pojke'][0], label=\"Finnish-pojke\")\n",
    "plt.plot(sweYears, candidates_d['pojke'][1], label=\"Swedish-pojke\")\n",
    "plt.plot(finYears, candidates_d['poika'][0], label=\"Finnish-poika\")\n",
    "plt.plot(sweYears, candidates_d['poika'][1], label=\"Swedish-poika\")\n",
    "plt.legend()"
   ]
  },
  {
   "cell_type": "markdown",
   "metadata": {},
   "source": [
    "## Trying to Find other Dialectical Differences\n",
    "Look at words that differ significantly in frequency across the finnish and swedish texts. "
   ]
  },
  {
   "cell_type": "code",
   "execution_count": 41,
   "metadata": {},
   "outputs": [
    {
     "data": {
      "image/png": "[encoded data removed]",
      "text/plain": [
       "<Figure size 432x288 with 1 Axes>"
      ]
     },
     "metadata": {
      "needs_background": "light"
     },
     "output_type": "display_data"
    }
   ],
   "source": [
    "plt.hist(fin.allCounters[np.datetime64('1800')].values())\n",
    "plt.yscale(\"log\")"
   ]
  },
  {
   "cell_type": "code",
   "execution_count": 40,
   "metadata": {},
   "outputs": [
    {
     "data": {
      "image/png": "[encoded data removed]",
      "text/plain": [
       "<Figure size 432x288 with 1 Axes>"
      ]
     },
     "metadata": {
      "needs_background": "light"
     },
     "output_type": "display_data"
    }
   ],
   "source": [
    "plt.hist(swe.allCounters[np.datetime64('1800')].values())\n",
    "plt.yscale('log')"
   ]
  },
  {
   "cell_type": "code",
   "execution_count": 51,
   "metadata": {},
   "outputs": [
    {
     "data": {
      "text/plain": [
       "122972"
      ]
     },
     "execution_count": 51,
     "metadata": {},
     "output_type": "execute_result"
    }
   ],
   "source": [
    "len(list(filter(lambda x: x > 1, swe.allCounters[np.datetime64('1800')].values()))) "
   ]
  },
  {
   "cell_type": "code",
   "execution_count": 71,
   "metadata": {},
   "outputs": [],
   "source": [
    "filterCounter = lambda counter: {k: v for k, v in counter.items() if v > 1}\n",
    "allFinWords = [Counter(filterCounter(words)) for year, words in fin.allCounters.items()]\n",
    "allFinWords = sum(allFinWords, Counter())\n",
    "\n",
    "allSweWords = [Counter(filterCounter(words)) for year, words in swe.allCounters.items()]\n",
    "allSweWords = sum(allSweWords, Counter())"
   ]
  },
  {
   "cell_type": "code",
   "execution_count": 76,
   "metadata": {},
   "outputs": [
    {
     "name": "stdout",
     "output_type": "stream",
     "text": [
      "3707214 1740217\n"
     ]
    }
   ],
   "source": [
    "print(len(allFinWords), len(allSweWords))"
   ]
  },
  {
   "cell_type": "code",
   "execution_count": 74,
   "metadata": {},
   "outputs": [
    {
     "name": "stderr",
     "output_type": "stream",
     "text": [
      "/share/apps/anaconda3/2020.02/lib/python3.7/site-packages/ipykernel_launcher.py:9: RuntimeWarning: divide by zero encountered in log\n",
      "  if __name__ == '__main__':\n",
      "/share/apps/anaconda3/2020.02/lib/python3.7/site-packages/ipykernel_launcher.py:9: RuntimeWarning: invalid value encountered in double_scalars\n",
      "  if __name__ == '__main__':\n"
     ]
    }
   ],
   "source": [
    "differentWords = {}\n",
    "for word, finCount in allFinWords.items(): \n",
    "    sweCount = allSweWords[word]\n",
    "    \n",
    "    a, b = finCount, sweCount\n",
    "    c, d = finWordCount, sweWordCount\n",
    "    e1 = c * (a + b) / (c + d)\n",
    "    e2 = d * (a + b) / (c + d)\n",
    "    G2 = 2* (a * np.log(a / e1) + b * np.log(b / e2))\n",
    "    p = 1 - stats.chi2.cdf(G2, 1)\n",
    "    \n",
    "    if p < 0.05: \n",
    "        # print(\"Significantly different usage of word: \", word)\n",
    "        differentWords[word] = p\n",
    "\n",
    "differentWords = {k: differentWords[k] for k in sorted(differentWords)}"
   ]
  }
 ],
 "metadata": {
  "kernelspec": {
   "display_name": "Python 3",
   "language": "python",
   "name": "python3"
  },
  "language_info": {
   "codemirror_mode": {
    "name": "ipython",
    "version": 3
   },
   "file_extension": ".py",
   "mimetype": "text/x-python",
   "name": "python",
   "nbconvert_exporter": "python",
   "pygments_lexer": "ipython3",
   "version": "3.7.6"
  }
 },
 "nbformat": 4,
 "nbformat_minor": 4
}
