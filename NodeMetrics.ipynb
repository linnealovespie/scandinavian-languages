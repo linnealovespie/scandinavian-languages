{
 "cells": [
  {
   "cell_type": "code",
   "execution_count": 19,
   "metadata": {},
   "outputs": [],
   "source": [
    "import spacy\n",
    "import os\n",
    "import xml.etree.ElementTree as ET\n",
    "import numpy as np\n",
    "from collections import Counter\n",
    "import matplotlib.pyplot as plt\n",
    "from spacy import displacy\n",
    "import scipy.stats\n",
    "from spacy.tokens import Doc\n",
    "import pickle\n",
    "\n",
    "# Tokenize only on whitespace to compare spacy tagger with sparv's tags\n",
    "class WhitespaceTokenizer:\n",
    "    def __init__(self, vocab):\n",
    "        self.vocab = vocab\n",
    "\n",
    "    def __call__(self, text):\n",
    "        words = text.split(\" \")\n",
    "        return Doc(self.vocab, words=words)\n",
    "\n",
    "nlp = spacy.load(os.path.join(\"..\", \"sv_model_upos\", \"sv_model0\", \"sv_model_upos0-0.0.0\"))\n",
    "#nlp.tokenizer = WhitespaceTokenizer(nlp.vocab)"
   ]
  },
  {
   "cell_type": "markdown",
   "metadata": {},
   "source": [
    "## Building Features\n",
    "To compare sentence structures across countries and decades, we build up a handful of sentence-level metrics. Given a newspaper published in a certain country and decade, we go through every sentence and count the number of words in the sentence, the depth of the sentence's parse tree, and the number of leaves in the parse tree. Each metric aims to capture a different element of the sentence complexity: \n",
    "\n",
    "- Sentence length is straightforward. \n",
    "- Sentence depth (relative to the length of the sentence for better comparison) shows the complexity of a sentence through the number of clauses in the sentence. \n",
    "- Number of leaves (relative to the length of the sentence). A relative number of leaves close to 1 shows a relatively simple tree because of the absence of modifiers or clauses attached to each node. A relative number of leaves close to 0 shows that there are many more nodes that are modified or expanded upon in a dependent clause. "
   ]
  },
  {
   "cell_type": "code",
   "execution_count": null,
   "metadata": {},
   "outputs": [],
   "source": [
    "# Look at distribution of sentence lengths across languages/times\n",
    "\n",
    "def traverseSwed(filepath, process, relative=False):\n",
    "    parser = ET.iterparse(file_path, events=('start','end'))\n",
    "    parser = iter(parser)\n",
    "    event, root = next(parser)\n",
    "\n",
    "    words = \"\"\n",
    "    pos = []\n",
    "    sum_overlaps= 0 \n",
    "    num_para = 0\n",
    "    i = 0\n",
    "    agLength, agDepth, agLeaves = [], [], []\n",
    "    for event, elem in parser:\n",
    "        if elem.tag == \"w\":\n",
    "            if event == \"end\":\n",
    "                #print(elem.attrib['pos'])\n",
    "                words +=  elem.text + \" \"\n",
    "                elem.clear()\n",
    "            root.clear()\n",
    "        if elem.tag == \"sentence\" and event==\"end\":\n",
    "            words = words.strip()\n",
    "            if len(words) == 0: continue\n",
    "            doc = nlp(words)\n",
    "            tok = list(doc.sents)[0].root\n",
    "                \n",
    "            agLength += [len(doc)]\n",
    "            agDepth += [treeDepth(tok)/len(doc)]\n",
    "            agLeaves += [numLeafs(tok)/len(doc)]\n",
    "            \n",
    "            words = \"\"\n",
    "            i += 1\n",
    "        if i == 10000: break\n",
    "    return agLength, agDepth, agLeaves\n",
    "            \n",
    "def traverseFin(filepath, process, relative=False):\n",
    "    agLength, agDepth, agLeaves = [], [], []\n",
    "    num_sentences = 0\n",
    "    with open(file_path) as reader:\n",
    "        words = []\n",
    "        pos = []\n",
    "        for line in reader:\n",
    "            # Start of sentence\n",
    "            if line[:9] == \"<sentence\": \n",
    "                words = []\n",
    "                pos_spacy=pos_sparv=pos=[]\n",
    "            # End of sentence\n",
    "            if line[:11] == \"</sentence>\": \n",
    "                if(len(words)) == 0: continue\n",
    "                sent = \" \".join(words)\n",
    "                # print(words)\n",
    "                doc = nlp(sent)\n",
    "                tok = list(doc.sents)[0].root\n",
    "                \n",
    "                agLength += [len(doc)]\n",
    "                agDepth += [treeDepth(tok)/len(doc)]\n",
    "                agLeaves += [numLeafs(tok)/len(doc)]\n",
    "                \n",
    "                num_sentences += 1\n",
    "            # Split up by sentence\n",
    "            # If at a text line and not just tags\n",
    "            if line[0] != \"<\": \n",
    "                wordInfo = line.split()\n",
    "                #print(wordInfo)\n",
    "                words += [wordInfo[0]]\n",
    "                pos += [wordInfo[1]]\n",
    "            if num_sentences == 10000: break\n",
    "    \n",
    "    return agLength, agDepth, agLeaves\n",
    "\n",
    "\n",
    "\"\"\"\n",
    "    For a sentence with the root token tok, returns the depth of the token's subtree. \n",
    "\"\"\"\n",
    "def treeDepth(tok):\n",
    "    if len(list(tok.children)) == 0: return 0 \n",
    "    \n",
    "    depths = np.array([treeDepth(c) for c in tok.children]).flatten()\n",
    "    return max(depths) + 1\n",
    "\n",
    "\"\"\"\n",
    "    For a sentence with the root token tok, returns the number of leaves in the token's subtree. \n",
    "\"\"\"\n",
    "def numLeafs(tok): \n",
    "    if len(list(tok.children)) == 0: return 1\n",
    "    \n",
    "    leafs = np.array([numLeafs(c) for c in tok.children]).flatten()\n",
    "    return sum(leafs)"
   ]
  },
  {
   "cell_type": "code",
   "execution_count": 23,
   "metadata": {},
   "outputs": [],
   "source": [
    "\"\"\"\n",
    "    Given a list of counts for some metric (eg. sentence length), plot the metric\n",
    "    for the two countries and print the result of a KS test to see see if the two distributions \n",
    "    are statistically significant in their difference. \n",
    "\"\"\"\n",
    "def showResults(res1, res2, label1, label2, title):\n",
    "    plt.hist(res1, alpha=0.5, label=label1, density=True)\n",
    "    plt.hist(res2, alpha=0.5, label=label2, density=True)\n",
    "    plt.legend()\n",
    "    plt.title(title)\n",
    "    plt.show()\n",
    "\n",
    "    print(f\"{label1} stats: {scipy.stats.describe(res1)}\")\n",
    "    print(f\"{label2} stats: {scipy.stats.describe(res2)}\")\n",
    "    print(\"\\nIndependence t-test: \", scipy.stats.ks_2samp(res1, res2))"
   ]
  },
  {
   "cell_type": "code",
   "execution_count": 14,
   "metadata": {},
   "outputs": [
    {
     "name": "stdout",
     "output_type": "stream",
     "text": [
      "Features already built, skipping\n"
     ]
    }
   ],
   "source": [
    "# Sample from the newest Finnish and Swedish publications\n",
    "# Only run if don't have features saved elsewhere \n",
    "if not('swed.pickle' in files) and not('fin.pickle' in files):\n",
    "    filesSwe = [\"kubhist2-carlscronaswekoblad-1870.xml\", \n",
    "                \"kubhist2-lundsweckoblad-1870.xml\", \n",
    "                \"kubhist2-norrkopingstidningar-1870.xml\"]\n",
    "\n",
    "    lengthS, depthS, leafS = [],[],[]\n",
    "    for name in filesSwe: \n",
    "        file_path = os.path.join(\"/share/magpie/datasets/Swedish\", \"kubhist2\", name)\n",
    "        l, d, f, = traverseSwed(file_path, numLeafs, True)\n",
    "        lengthS += l\n",
    "        depthS += d\n",
    "        leafS += f\n",
    "\n",
    "    filesFin = [\"klk-sv-1870.vrt\",\n",
    "               \"klk-sv-1874.vrt\", \n",
    "               \"klk-sv-1878.vrt\"]\n",
    "    lengthF, depthF, leafF = [],[],[]\n",
    "    for name in filesFin: \n",
    "        file_path = os.path.join(\"/share/magpie/datasets/Swedish\", \"klk-sv-1771-1879-vrt\", name)\n",
    "        l, d, f = traverseFin(file_path, numLeafs, True)\n",
    "        lengthF += l\n",
    "        depthF += d\n",
    "        leafF += f\n",
    "\n",
    "    # Save the feature counts so don't have to re-count later\n",
    "    import pickle\n",
    "    swed = {\"lenghts\": lengthS, \n",
    "           \"leaves\": leafS, \n",
    "           \"depths\": depthS}\n",
    "    fin = {\"lenghts\": lengthF, \n",
    "           \"leaves\": leafF, \n",
    "           \"depths\": depthF}\n",
    "    with open(os.path.join(\"data\", \"swed.pickle\"), 'wb') as f:\n",
    "        pickle.dump(swed, f)\n",
    "    with open(os.path.join(\"data\", \"fin.pickle\"), 'wb') as f:\n",
    "        pickle.dump(fin, f)\n",
    "else:\n",
    "    print(\"Features already built, skipping\")"
   ]
  },
  {
   "cell_type": "code",
   "execution_count": 16,
   "metadata": {},
   "outputs": [
    {
     "name": "stdout",
     "output_type": "stream",
     "text": [
      "Features already built, skipping\n"
     ]
    }
   ],
   "source": [
    "# Sample from the oldest Finnish and Swedish publications \n",
    "\n",
    "if not('swedOld.pickle' in files) and not('finOld.pickle' in files):\n",
    "    filesSwe = [\"kubhist2-carlscronaswekoblad-1780.xml\", \n",
    "                \"kubhist2-lundsweckoblad-1780.xml\", \n",
    "                \"kubhist2-norrkopingstidningar-1780.xml\"]\n",
    "\n",
    "    lengthS, depthS, leafS = [],[],[]\n",
    "    for name in filesSwe: \n",
    "        file_path = os.path.join(\"/share/magpie/datasets/Swedish\", \"kubhist2\", name)\n",
    "        l, d, f, = traverseSwed(file_path, numLeafs, True)\n",
    "        lengthS += l\n",
    "        depthS += d\n",
    "        leafS += f\n",
    "\n",
    "    # Using only a subset of the Finnish 1780s data so that balanced with Swedish 1780s data.\n",
    "    filesFin = [\"klk-sv-1782.vrt\",\n",
    "               \"klk-sv-1784.vrt\",\n",
    "               \"klk-sv-1789.vrt\"]\n",
    "    lengthF, depthF, leafF = [],[],[]\n",
    "    for name in filesFin: \n",
    "        file_path = os.path.join(\"/share/magpie/datasets/Swedish\", \"klk-sv-1771-1879-vrt\", name)\n",
    "        l, d, f = traverseFin(file_path, numLeafs, True)\n",
    "        lengthF += l\n",
    "        depthF += d\n",
    "        leafF += f\n",
    "\n",
    "    import pickle\n",
    "    swed = {\"lenghts\": lengthS, \n",
    "           \"leaves\": leafS, \n",
    "           \"depths\": depthS}\n",
    "    fin = {\"lenghts\": lengthF, \n",
    "           \"leaves\": leafF, \n",
    "           \"depths\": depthF}\n",
    "    with open(os.path.join(\"data\", \"swedOld.pickle\"), 'wb') as f:\n",
    "        pickle.dump(swed, f)\n",
    "    with open(os.path.join(\"data\", \"finOld.pickle\"), 'wb') as f:\n",
    "        pickle.dump(fin, f)\n",
    "else: \n",
    "    print(\"Features already built, skipping\")"
   ]
  },
  {
   "cell_type": "code",
   "execution_count": 20,
   "metadata": {},
   "outputs": [],
   "source": [
    "# Once the features have been built above, we can re-load them in the future from saved pickle files\n",
    "\n",
    "# Loading features from the 1870 (\"new\") publications\n",
    "lengthFNew, depthFNew, leafFNew = [],[],[]\n",
    "lengthSNew, depthSNew, leafSNew = [],[],[]\n",
    "swed, fin = {}, {}\n",
    "with open(os.path.join(\"data\", \"swed.pickle\"), 'rb') as f:\n",
    "    swed = pickle.load(f)\n",
    "    lengthSNew, depthSNew, leafSNew = swed.values()\n",
    "with open(os.path.join(\"data\", \"fin.pickle\"), 'rb') as f:\n",
    "    fin = pickle.load(f)\n",
    "    lengthFNew, depthFNew, leafFNew = fin.values()\n",
    "    \n",
    "# Loading features from the 1780 (\"old\") publications\n",
    "lengthFOld, depthFOld, leafFOld = [],[],[]\n",
    "lengthSOld, depthSOld, leafSOld = [],[],[]\n",
    "swed, fin = {}, {}\n",
    "with open(os.path.join(\"data\", \"swedOld.pickle\"), 'rb') as f:\n",
    "    swed = pickle.load(f)\n",
    "    lengthSOld, depthSOld, leafSOld= swed.values()\n",
    "with open(os.path.join(\"data\", \"finOld.pickle\"), 'rb') as f:\n",
    "    fin = pickle.load(f)\n",
    "    lengthFOld, depthFOld, leafFOld = fin.values()"
   ]
  },
  {
   "cell_type": "code",
   "execution_count": 21,
   "metadata": {},
   "outputs": [
    {
     "name": "stdout",
     "output_type": "stream",
     "text": [
      "<class 'list'> <class 'list'>\n"
     ]
    }
   ],
   "source": [
    "print(type(leafSOld), type(leafSNew))"
   ]
  },
  {
   "cell_type": "markdown",
   "metadata": {},
   "source": [
    "## Comparisons: \n",
    "Now that the features have been built, we can compare them across time and langauges. Each combination of country of publication and time period shows that they are statistically different in distribution of each metric, as seen in greater detail below. "
   ]
  },
  {
   "cell_type": "markdown",
   "metadata": {},
   "source": [
    "### Finnish vs. Swedish: Sentence Length\n",
    "Comparing the sentence length of the most recent Finnish vs. Swedish publications (ie. from 1870). We see that sentence length in Finnish publications are on average 9 words longer than Swedish publications, although Finnish sentences tend to vary much more in length than Swedish sentences. Both are heavily skewed right with a long tail of longer sentence lengths. A similar analysis for the 1780s shows a similar result. "
   ]
  },
  {
   "cell_type": "code",
   "execution_count": 27,
   "metadata": {},
   "outputs": [
    {
     "data": {
      "image/png": "[encoded data removed]",
      "text/plain": [
       "<Figure size 432x288 with 1 Axes>"
      ]
     },
     "metadata": {
      "needs_background": "light"
     },
     "output_type": "display_data"
    },
    {
     "name": "stdout",
     "output_type": "stream",
     "text": [
      "Swedish stats: DescribeResult(nobs=30000, minmax=(1, 254), mean=12.711833333333333, variance=271.67744922052964, skewness=3.320371566624919, kurtosis=18.825124645982026)\n",
      "Finnish stats: DescribeResult(nobs=30000, minmax=(1, 390), mean=21.915233333333333, variance=435.3806272997989, skewness=2.495281084202087, kurtosis=14.727359923508303)\n",
      "\n",
      "Independence t-test:  Ks_2sampResult(statistic=0.2997666666666667, pvalue=0.0)\n"
     ]
    }
   ],
   "source": [
    "# 1870 Data\n",
    "showResults(lengthSNew, lengthFNew, \"Swedish\", \"Finnish\", \"Sentence Length New: Swedish vs. Finnish\")"
   ]
  },
  {
   "cell_type": "markdown",
   "metadata": {},
   "source": [
    "### Finnish vs. Swedish: Relative Tree Depth\n",
    "Relative tree depth shows the number of dependent clauses in a sentence relative to the number of words in the sentence. A relative tree depth close to 1 shows a tall and \"skinny\" tree, where each node is dependent on a parent node. (Show an example of what close to 1 means) A relative tree depth close to 0 shows a wider tree (add better explanation). \n",
    "\n",
    "Sentences coming from Finnish newspapers tend to have a higher relative tree depth, meaning __. \n",
    "\n",
    "Show example of high tree depth\n",
    "Show example of low tree depth"
   ]
  },
  {
   "cell_type": "code",
   "execution_count": 29,
   "metadata": {},
   "outputs": [
    {
     "data": {
      "image/png": "[encoded data removed]",
      "text/plain": [
       "<Figure size 432x288 with 1 Axes>"
      ]
     },
     "metadata": {
      "needs_background": "light"
     },
     "output_type": "display_data"
    },
    {
     "name": "stdout",
     "output_type": "stream",
     "text": [
      "Swedish stats: DescribeResult(nobs=30000, minmax=(0.2, 1.0), mean=0.6282786558321322, variance=0.017879751356547166, skewness=0.9421176752313591, kurtosis=1.5871406309988068)\n",
      "Finnish stats: DescribeResult(nobs=30000, minmax=(0.14285714285714285, 1.0), mean=0.6446672206705044, variance=0.010550591697062697, skewness=0.9740379539424052, kurtosis=3.2067547151422984)\n",
      "\n",
      "Independence t-test:  Ks_2sampResult(statistic=0.1486, pvalue=3.970348851865454e-288)\n"
     ]
    }
   ],
   "source": [
    "showResults(depthSNew, depthFNew, \"Swedish\", \"Finnish\", \"Relative Tree Depth: Swedish vs. Finnish\")"
   ]
  },
  {
   "cell_type": "code",
   "execution_count": null,
   "metadata": {},
   "outputs": [],
   "source": []
  },
  {
   "cell_type": "markdown",
   "metadata": {},
   "source": [
    "## Finnish vs. Swedish: Relative Number of Leaves\n",
    "Sentences coming from Swedish newspapers on average have a greater number of leaves, relative to the sentence length. Show example of low number of leaves\n",
    "Relative number of leaves shows roughly the logical complement of the relative tree depth. A relatively low number of leaves shows that more nodes are part of a chain of dependencies than have no other nodes dependent on it. "
   ]
  },
  {
   "cell_type": "code",
   "execution_count": 32,
   "metadata": {},
   "outputs": [
    {
     "data": {
      "image/png": "[encoded data removed]",
      "text/plain": [
       "<Figure size 432x288 with 1 Axes>"
      ]
     },
     "metadata": {
      "needs_background": "light"
     },
     "output_type": "display_data"
    },
    {
     "name": "stdout",
     "output_type": "stream",
     "text": [
      "Swedish stats: DescribeResult(nobs=30000, minmax=(0.0, 0.8), mean=0.2964122598058318, variance=0.02382780020697767, skewness=0.08757792725749111, kurtosis=-0.5537783175443818)\n",
      "Finnish stats: DescribeResult(nobs=30000, minmax=(0.0, 0.8571428571428571), mean=0.22986561594256769, variance=0.016158977098098635, skewness=0.8112612694502062, kurtosis=0.43153467032985926)\n",
      "\n",
      "Independence t-test:  Ks_2sampResult(statistic=0.24170000000000003, pvalue=0.0)\n"
     ]
    }
   ],
   "source": [
    "showResults(leafSNew, leafFNew, \"Swedish\", \"Finnish\", \"Relative number of leaves: Swedish vs. Finnish\")"
   ]
  },
  {
   "cell_type": "code",
   "execution_count": 32,
   "metadata": {},
   "outputs": [
    {
     "data": {
      "image/png": "[encoded data removed]",
      "text/plain": [
       "<Figure size 432x288 with 1 Axes>"
      ]
     },
     "metadata": {
      "needs_background": "light"
     },
     "output_type": "display_data"
    },
    {
     "name": "stdout",
     "output_type": "stream",
     "text": [
      "Swedish stats: DescribeResult(nobs=30000, minmax=(0.2, 1.0), mean=0.6282786558321322, variance=0.017879751356547166, skewness=0.9421176752313591, kurtosis=1.5871406309988068)\n",
      "Finnish stats: DescribeResult(nobs=30000, minmax=(0.14285714285714285, 1.0), mean=0.6446672206705044, variance=0.010550591697062697, skewness=0.9740379539424052, kurtosis=3.2067547151422984)\n",
      "\n",
      "Independence t-test:  Ttest_indResult(statistic=-16.834898448122363, pvalue=1.937625911965083e-63)\n"
     ]
    }
   ],
   "source": [
    "showResults(leafS, leafF, \"Swedish\", \"Finnish\", \"RELATIVE number leaves: Swedish vs. Finnish\")"
   ]
  }
 ],
 "metadata": {
  "kernelspec": {
   "display_name": "Python 3",
   "language": "python",
   "name": "python3"
  },
  "language_info": {
   "codemirror_mode": {
    "name": "ipython",
    "version": 3
   },
   "file_extension": ".py",
   "mimetype": "text/x-python",
   "name": "python",
   "nbconvert_exporter": "python",
   "pygments_lexer": "ipython3",
   "version": "3.7.6"
  }
 },
 "nbformat": 4,
 "nbformat_minor": 4
}
