{
 "cells": [
  {
   "cell_type": "code",
   "execution_count": 6,
   "metadata": {},
   "outputs": [],
   "source": [
    "import utils\n",
    "import xml.etree.cElementTree  as ET\n",
    "import os\n",
    "from bs4 import BeautifulSoup\n",
    "from io import StringIO\n",
    "import itertools\n",
    "from collections import Counter"
   ]
  },
  {
   "cell_type": "code",
   "execution_count": 9,
   "metadata": {},
   "outputs": [],
   "source": [
    "utils.data_dir = \"/home/lm686/data/Swedish/lb/resurser/meningsmangder\""
   ]
  },
  {
   "cell_type": "code",
   "execution_count": null,
   "metadata": {},
   "outputs": [],
   "source": [
    "count = Counter()\n",
    "with open(\"/share/magpie/datasets/Swedish/klk-sv-1771-1879-vrt/klk-sv-1870.vrt\") as reader: \n",
    "    file = \"klk-sv-1900-s.vrt\"\n",
    "    i = 0 \n",
    "    words = []\n",
    "    for line in reader:     \n",
    "        # If at a text line and not just tags\n",
    "        if line[0] != \"<\": \n",
    "            wordInfo = line.split()\n",
    "            #print(wordInfo)\n",
    "            words += [wordInfo[0]]\n",
    "            cleanWord = utils.clean_text(wordInfo[0])\n",
    "            if len(cleanWord) > 0:\n",
    "                count[cleanWord] += 1\n",
    "            #count1880.update(wordInfo[0])\n",
    "            \n",
    "        if len(words) == utils.write_checkpoint:\n",
    "            #utils.words_to_lines(words, file, count)\n",
    "            words = []\n",
    "            \n",
    "        i +=1\n",
    "        # if i ==500: break # uncomment for debug purposes\n",
    "        \n",
    "with open(\"./Finnish/temp_txt/1870.pickle\", 'wb') as f:\n",
    "    pickle.dump(count, f) "
   ]
  },
  {
   "cell_type": "code",
   "execution_count": 19,
   "metadata": {},
   "outputs": [],
   "source": [
    "with open(\"./Finnish/temp_txt/klk-sv-1880-s.vrt\") as f:\n",
    "    counter1880 = Counter(f.read().split())"
   ]
  },
  {
   "cell_type": "code",
   "execution_count": 3,
   "metadata": {},
   "outputs": [
    {
     "data": {
      "text/plain": [
       "[]"
      ]
     },
     "execution_count": 3,
     "metadata": {},
     "output_type": "execute_result"
    }
   ],
   "source": [
    "count1900.most_common(100)"
   ]
  },
  {
   "cell_type": "code",
   "execution_count": 12,
   "metadata": {},
   "outputs": [],
   "source": [
    "import pickle"
   ]
  },
  {
   "cell_type": "code",
   "execution_count": 13,
   "metadata": {},
   "outputs": [],
   "source": [
    "with open(\"./Swedish/kubhist2-lundsweckoblad-1780.pickle\", 'rb') as f:\n",
    "    c = pickle.load(f)"
   ]
  },
  {
   "cell_type": "code",
   "execution_count": null,
   "metadata": {},
   "outputs": [],
   "source": []
  }
 ],
 "metadata": {
  "kernelspec": {
   "display_name": "Python 3",
   "language": "python",
   "name": "python3"
  },
  "language_info": {
   "codemirror_mode": {
    "name": "ipython",
    "version": 3
   },
   "file_extension": ".py",
   "mimetype": "text/x-python",
   "name": "python",
   "nbconvert_exporter": "python",
   "pygments_lexer": "ipython3",
   "version": "3.7.6"
  }
 },
 "nbformat": 4,
 "nbformat_minor": 4
}
