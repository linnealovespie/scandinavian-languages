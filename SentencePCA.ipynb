{
 "cells": [
  {
   "cell_type": "markdown",
   "metadata": {},
   "source": [
    "# Sentence-Level PCA\n",
    "Last semester I looked at the trends over time by featurizing each decade based on the word frequencies. Now, I'm trying the to spot similar trends but by featurizing based on sentence structure. "
   ]
  },
  {
   "cell_type": "code",
   "execution_count": 1,
   "metadata": {},
   "outputs": [],
   "source": [
    "import spacy\n",
    "import os\n",
    "import xml.etree.ElementTree as ET\n",
    "import numpy as np\n",
    "from collections import Counter\n",
    "import matplotlib.pyplot as plt\n",
    "from spacy import displacy\n",
    "import scipy.stats\n",
    "import pandas as pd\n",
    "import re\n",
    "import pickle\n",
    "from sklearn.preprocessing import StandardScaler\n",
    "from sklearn.decomposition import PCA\n",
    "plt.rcParams[\"figure.figsize\"] = (20,10)"
   ]
  },
  {
   "cell_type": "code",
   "execution_count": 2,
   "metadata": {},
   "outputs": [],
   "source": [
    "from spacy.tokens import Doc\n",
    "\n",
    "# Tokenize only on whitespace to compare spacy tagger with sparv's tags\n",
    "class WhitespaceTokenizer:\n",
    "    def __init__(self, vocab):\n",
    "        self.vocab = vocab\n",
    "\n",
    "    def __call__(self, text):\n",
    "        words = text.split(\" \")\n",
    "        return Doc(self.vocab, words=words)\n",
    "\n",
    "nlp = spacy.load(os.path.join(\"..\", \"sv_model_upos\", \"sv_model0\", \"sv_model_upos0-0.0.0\"))\n",
    "#nlp.tokenizer = WhitespaceTokenizer(nlp.vocab)"
   ]
  },
  {
   "cell_type": "markdown",
   "metadata": {},
   "source": [
    "## Building Sentence-Level Features"
   ]
  },
  {
   "cell_type": "code",
   "execution_count": 3,
   "metadata": {},
   "outputs": [],
   "source": [
    "# Look at distribution of sentence lengths across languages/times\n",
    "\"\"\"\n",
    "    Given a path to a .xml file containing a decade of Swedish newspaper publications, builds a dataframe where each row \n",
    "    is a sentence in the publication and the columns are the length of the sentence, the depth of the sentence's parse\n",
    "    tree, the number of leaves, and the count of a variety of dependency relations present in the sentence. \n",
    "\"\"\"\n",
    "def traverseSwed(filepath):\n",
    "    parser = ET.iterparse(file_path, events=('start','end'))\n",
    "    parser = iter(parser)\n",
    "    event, root = next(parser)\n",
    "    df = pd.DataFrame(columns=(\"length\", \"depth\", \"leaves\", \"amod\", \"nmod\", \"nsubj\", \"dobj\", \"iobj\"))\n",
    "    \n",
    "    words = \"\"\n",
    "    pos = []\n",
    "    sum_overlaps= 0 \n",
    "    num_para = 0\n",
    "    i = 0\n",
    "    ag = []\n",
    "    row = {}\n",
    "    for event, elem in parser:\n",
    "        if elem.tag == \"w\":\n",
    "            if event == \"end\":\n",
    "                words +=  elem.text + \" \"\n",
    "                elem.clear()\n",
    "            root.clear()\n",
    "        if elem.tag == \"sentence\" and event==\"end\":\n",
    "            words = words.strip()\n",
    "            if len(words) == 0: continue\n",
    "            doc = nlp(words)\n",
    "            tok = list(doc.sents)[0].root\n",
    "            row.update({\n",
    "                \"length\": len(doc),\n",
    "                \"depth\": treeDepth(tok),\n",
    "                \"leaves\": numLeafs(tok), \n",
    "            })\n",
    "            row.update(numComponents(tok))\n",
    "            words = \"\"\n",
    "            i += 1\n",
    "            df = df.append(pd.Series(row), ignore_index=True)\n",
    "        # Take only the first 10,000 sentences if in a time crunch\n",
    "        if i == 10000: break\n",
    "    return df\n",
    "            \n",
    "\n",
    "\"\"\"\n",
    "    For a sentence with the root token tok, returns the depth of the token's subtree. \n",
    "\"\"\"\n",
    "def treeDepth(tok):\n",
    "    if len(list(tok.children)) == 0: return 0 \n",
    "    \n",
    "    depths = np.array([treeDepth(c) for c in tok.children]).flatten()\n",
    "    return max(depths) + 1\n",
    "\n",
    "\"\"\"\n",
    "    For a sentence with the root token tok, returns the number of leaves in the token's subtree. \n",
    "\"\"\"\n",
    "def numLeafs(tok): \n",
    "    if len(list(tok.children)) == 0: return 1\n",
    "    \n",
    "    leafs = np.array([numLeafs(c) for c in tok.children]).flatten()\n",
    "    return sum(leafs)\n",
    "\n",
    "\"\"\"\n",
    "    For a sentence with the root token tok, returns the breakdown on the dependency relations\n",
    "    returns a tuple of (\"amod\", \"nmod\", \"nsubj\", \"dobj\", \"iobj\")\n",
    "    An explanation of these relations can be found at https://spacy.io/usage/linguistic-features#dependency-parse\n",
    "\"\"\"\n",
    "def numComponents(tok): \n",
    "    c = Counter({\"amod\":0, \"nmod\":0, \"nsubj\":0, \"dobj\":0, \"iobj\":0})\n",
    "    for token in tok.children: \n",
    "        if token.dep_ in c.keys():\n",
    "            c[token.dep_] += 1\n",
    "    return c"
   ]
  },
  {
   "cell_type": "code",
   "execution_count": null,
   "metadata": {},
   "outputs": [],
   "source": [
    "df_swed = pd.DataFrame(columns=(\"decade\", \"length\", \"depth\", \"leaves\", \"amod\", \"nmod\", \"nsubj\", \"dobj\", \"iobj\"))\n",
    "data_dir = os.path.join(\"/share/magpie/datasets/Swedish\", \"kubhist2\")\n",
    "for xml in os.listdir(data_dir):\n",
    "    if xml.endswith(\".xml\"):\n",
    "        decade = int(re.findall(r'\\d{4}', xml)[0])\n",
    "        file_path = os.path.join(\"/share/magpie/datasets/Swedish\", \"kubhist2\",xml)\n",
    "        df = traverseSwed(file_path)\n",
    "        means = df.mean(axis=0)\n",
    "        means[\"decade\"] = decade\n",
    "        means.name = xml\n",
    "        print(xml)\n",
    "        df_swed = df_swed.append(means)\n",
    "        del df\n",
    "        del means"
   ]
  },
  {
   "cell_type": "code",
   "execution_count": 3,
   "metadata": {},
   "outputs": [],
   "source": [
    "with open(\"swedFeats.pickle\", 'rb') as f: \n",
    "    feats =  pickle.load(f)\n",
    "# Drop outlier newspaper\n",
    "feats = feats.drop(\"kubhist2-aftonbladet-1830.xml\", axis=0) \n",
    "# Dobj ended up being all 0's so drop\n",
    "feats = feats.drop(\"dobj\", axis=1)"
   ]
  },
  {
   "cell_type": "code",
   "execution_count": 4,
   "metadata": {},
   "outputs": [
    {
     "name": "stdout",
     "output_type": "stream",
     "text": [
      "Counter({1830: 4, 1780: 3, 1810: 3, 1820: 3, 1840: 3, 1850: 3, 1860: 3, 1870: 3, 1770: 2, 1790: 2, 1800: 2, 1890: 2, 1880: 2, 1750: 1, 1760: 1})\n"
     ]
    }
   ],
   "source": [
    "c = Counter()\n",
    "for name in feats.index:\n",
    "    decade = int(re.findall(r'\\d{4}', name)[0])\n",
    "    c[decade] += 1\n",
    "print(c)"
   ]
  },
  {
   "cell_type": "markdown",
   "metadata": {},
   "source": [
    "## PCA of Sentence-Level Feature Vectors"
   ]
  },
  {
   "cell_type": "code",
   "execution_count": 5,
   "metadata": {},
   "outputs": [],
   "source": [
    "decade_group = feats.groupby(\"decade\").mean()\n",
    "scaler = StandardScaler()\n",
    "decade_group= scaler.fit_transform(decade_group)\n",
    "\n",
    "pca = PCA(n_components=2)\n",
    "pca_result = pca.fit_transform(decade_group)"
   ]
  },
  {
   "cell_type": "markdown",
   "metadata": {},
   "source": [
    "PCA works by finding the axes along which the data varies the most. It creates these axes as a linear combination of the original feature vectors. We can use this fact to get an idea of how important each original feature is to explaining the variance in the data. \n",
    "\n",
    "Looking at the coefficients for the features that make up the first Principal Component, or the axis along which the data varies the most, we can make a few observations. First, we see that sentence length and the number of leaves are the top two features in determining the variance between decades. The next most important features are the number of subject nodes, the number of indirect objects in a sentence, and the depth of the parse tree. Less important are the number of adjectival modifiers and the number of nominal modifiers. "
   ]
  },
  {
   "cell_type": "code",
   "execution_count": 9,
   "metadata": {},
   "outputs": [
    {
     "data": {
      "image/png": "[encoded data removed]",
      "text/plain": [
       "<Figure size 1440x720 with 1 Axes>"
      ]
     },
     "metadata": {
      "needs_background": "light"
     },
     "output_type": "display_data"
    }
   ],
   "source": [
    "plt.bar(feats.columns[1:], pca.components_[0])\n",
    "plt.xlabel(\"Feature\")\n",
    "plt.ylabel(\"Explained variance\")\n",
    "plt.title(\"Explained variance of each feature in PC1\")\n",
    "plt.show()"
   ]
  },
  {
   "cell_type": "markdown",
   "metadata": {},
   "source": [
    "Projecting the decade feature vectors onto 2 Principal Components we can try to look for any patterns in the relationship between decades. The latest decades (eg. 1880 and 1890) seem to be relatively separate from the rest of the decades, perhaps indicating a change in writing style. Not too surprisingly, the earliest decade (1750) seems to be separate from the rest of the decades. It's not uncommon for earlier writing to appear different, if anything because the OCR systems used to read in the newspapers publications may not work as well on earlier versions of the newspaper. There are a few other loose clustering of decades, but none are quite as compelling as when we featurized each decade using word frequencies. "
   ]
  },
  {
   "cell_type": "code",
   "execution_count": 10,
   "metadata": {},
   "outputs": [
    {
     "data": {
      "image/png": "[encoded data removed]",
      "text/plain": [
       "<Figure size 1440x720 with 1 Axes>"
      ]
     },
     "metadata": {
      "needs_background": "light"
     },
     "output_type": "display_data"
    }
   ],
   "source": [
    "plt.scatter(pca_result[:,0], pca_result[:,1])\n",
    "for idx, dec in enumerate(np.array(feats['decade'].unique())):\n",
    "    plt.annotate(dec, (pca_result[idx, 0], pca_result[idx,1]))"
   ]
  },
  {
   "cell_type": "code",
   "execution_count": 94,
   "metadata": {},
   "outputs": [
    {
     "name": "stdout",
     "output_type": "stream",
     "text": [
      "[0.57216721 0.23899395]\n"
     ]
    }
   ],
   "source": [
    "print(pca.explained_variance_ratio_)"
   ]
  }
 ],
 "metadata": {
  "kernelspec": {
   "display_name": "Python 3",
   "language": "python",
   "name": "python3"
  },
  "language_info": {
   "codemirror_mode": {
    "name": "ipython",
    "version": 3
   },
   "file_extension": ".py",
   "mimetype": "text/x-python",
   "name": "python",
   "nbconvert_exporter": "python",
   "pygments_lexer": "ipython3",
   "version": "3.7.6"
  }
 },
 "nbformat": 4,
 "nbformat_minor": 4
}
