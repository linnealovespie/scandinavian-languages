{
 "cells": [
  {
   "cell_type": "code",
   "execution_count": 1,
   "metadata": {},
   "outputs": [],
   "source": [
    "import json\n",
    "import matplotlib.pyplot as plt\n",
    "import numpy as np\n",
    "from scipy import stats\n",
    "from scipy import spatial\n",
    "from collections import Counter\n",
    "import os\n",
    "import pickle\n",
    "from sklearn.decomposition import PCA\n",
    "from math import log"
   ]
  },
  {
   "cell_type": "code",
   "execution_count": 13,
   "metadata": {},
   "outputs": [],
   "source": [
    "finCountSource = \"scandinavian-languages/data/Finnish/temp_txt\"\n",
    "sweCountSource = \"scandinavian-languages/data/Swedish/\"\n",
    "decades = [str(i) for i in range(1750, 1910, 10)]"
   ]
  },
  {
   "cell_type": "code",
   "execution_count": 39,
   "metadata": {},
   "outputs": [],
   "source": [
    "class LanguageCounter():\n",
    "    def __init__(self, dataPath):\n",
    "        self.dataPath = dataPath\n",
    "        self.allCounters = {}\n",
    "        self.commonWords = {}\n",
    "        \n",
    "        self.topWordsTotal = None\n",
    "        self.allFeatized = None\n",
    "        \n",
    "        #buildCommonCounters(self.datapath)\n",
    "        #buildFeatures()\n",
    "    \n",
    "    \"\"\"\n",
    "        For every pickle file in dataPath, adds a counter for each decade to self.allCounters\n",
    "    \"\"\"\n",
    "    def buildCommonCounters(self, dataPath):\n",
    "        # commonWords = []\n",
    "        # allCounters = {d: Counter() for d in decades}\n",
    "        # TODO: re-run for finnish 1771 bc im dumb\n",
    "        for f in os.listdir(dataPath):\n",
    "            if(f.endswith(\".pickle\")):\n",
    "                decade = os.path.basename(f)\n",
    "                decade = decade[decade.index(\"1\"): decade.index(\"1\")+3] + \"0\"\n",
    "                if decade not in list(self.allCounters.keys()):\n",
    "                    print(\"adding decade\", decade)\n",
    "                    self.allCounters[decade] = Counter()\n",
    "                    self.commonWords[decade] = set([])\n",
    "\n",
    "                with open(os.path.join(dataPath, f), 'rb') as f:\n",
    "                    wordCounter = pickle.load(f)\n",
    "\n",
    "                self.allCounters[decade] += wordCounter\n",
    "                top100 = [w[0] for w in wordCounter.most_common(100)]\n",
    "                # Build a list of the top 100 across all files of a decade\n",
    "                # Mainly helps get an idea over anything quantitative\n",
    "                self.commonWords[decade].update(top100)\n",
    "    \n",
    "    def getOverlaps(self):\n",
    "        overlaps = []\n",
    "        simToBase = [100]\n",
    "        base = list(self.commonWords.keys())[0]\n",
    "        for i in range(len(self.commonWords)-1):\n",
    "            decade = list(self.commonWords.keys())[i]\n",
    "            decade_n = list(self.commonWords.keys())[i+1]\n",
    "            overlaps += [len(set(self.commonWords[decade]).intersection(self.commonWords[decade_n]))]\n",
    "            simToBase += [len(set(self.commonWords[decade_n]).intersection(self.commonWords[base]))]\n",
    "        # overlapBounds = len(set(self.commonWords[0]).intersection(self.commonWords[-1]))\n",
    "        return overlaps, simToBase\n",
    "    \n",
    "    def buildFeatures(self):\n",
    "        totalFreqs = sum(self.allCounters.values(), Counter())\n",
    "        totalFreqsSorted = totalFreqs.most_common()\n",
    "        self.topWordsCounter = totalFreqs.most_common(250)\n",
    "        \n",
    "        self.topWordsTotal = []\n",
    "        i = 0\n",
    "        while len(self.topWordsTotal) < 250: \n",
    "            word = totalFreqsSorted[i]\n",
    "            inText = [1 if word[0] in list(self.allCounters.values())[j] else 0 for j in range(len(self.allCounters))]\n",
    "            proport = sum(inText) / len(inText)\n",
    "            print(\"word \", word, \"in % of texts: \", proport)\n",
    "            if proport >= 0.5: \n",
    "                self.topWordsTotal += [word[0]]\n",
    "            i += 1\n",
    "            \n",
    "        self.allFeatize = []\n",
    "        for counter in list(self.allCounters.values()):\n",
    "            lenDoc = sum(counter.values())\n",
    "            featize = np.array([counter[self.topWordsTotal[i]] for i in range(len(self.topWordsTotal))])\n",
    "            featize = np.divide(featize, lenDoc)\n",
    "            self.allFeatize += [featize]"
   ]
  },
  {
   "cell_type": "code",
   "execution_count": 40,
   "metadata": {},
   "outputs": [
    {
     "name": "stdout",
     "output_type": "stream",
     "text": [
      "adding decade 1770\n",
      "adding decade 1780\n",
      "adding decade 1790\n",
      "adding decade 1800\n",
      "adding decade 1810\n",
      "adding decade 1820\n",
      "adding decade 1830\n",
      "adding decade 1840\n",
      "adding decade 1850\n",
      "adding decade 1860\n",
      "adding decade 1870\n"
     ]
    }
   ],
   "source": [
    "fin = LanguageCounter(finCountSource)\n",
    "fin.buildCommonCounters(fin.dataPath)"
   ]
  },
  {
   "cell_type": "code",
   "execution_count": 41,
   "metadata": {},
   "outputs": [
    {
     "name": "stdout",
     "output_type": "stream",
     "text": [
      "adding decade 1780\n",
      "adding decade 1820\n",
      "adding decade 1840\n",
      "adding decade 1860\n",
      "adding decade 1880\n",
      "adding decade 1800\n",
      "adding decade 1760\n",
      "adding decade 1750\n",
      "adding decade 1770\n",
      "adding decade 1790\n",
      "adding decade 1810\n",
      "adding decade 1830\n",
      "adding decade 1850\n",
      "adding decade 1870\n",
      "adding decade 1890\n"
     ]
    }
   ],
   "source": [
    "swe = LanguageCounter(sweCountSource)\n",
    "swe.buildCommonCounters(swe.dataPath)"
   ]
  },
  {
   "cell_type": "code",
   "execution_count": 42,
   "metadata": {},
   "outputs": [
    {
     "data": {
      "image/png": "[encoded data removed]",
      "text/plain": [
       "<Figure size 432x288 with 1 Axes>"
      ]
     },
     "metadata": {
      "needs_background": "light"
     },
     "output_type": "display_data"
    },
    {
     "data": {
      "image/png": "[encoded data removed]",
      "text/plain": [
       "<Figure size 432x288 with 1 Axes>"
      ]
     },
     "metadata": {
      "needs_background": "light"
     },
     "output_type": "display_data"
    }
   ],
   "source": [
    "# Similarity wrt 1770 decade over time\n",
    "_, finSimToBase = fin.getOverlaps()\n",
    "plt.plot(finSimToBase)\n",
    "plt.show()\n",
    "\n",
    "_, sweSimToBase = swe.getOverlaps()\n",
    "plt.plot(sweSimToBase)\n",
    "plt.show()"
   ]
  },
  {
   "cell_type": "code",
   "execution_count": 43,
   "metadata": {
    "scrolled": true
   },
   "outputs": [
    {
     "name": "stdout",
     "output_type": "stream",
     "text": [
      "word  ('och', 13093167) in % of texts:  1.0\n",
      "word  ('att', 7109041) in % of texts:  1.0\n",
      "word  ('den', 5927745) in % of texts:  1.0\n",
      "word  ('till', 5756171) in % of texts:  1.0\n",
      "word  ('för', 4744115) in % of texts:  1.0\n",
      "word  ('som', 3915510) in % of texts:  1.0\n",
      "word  ('med', 3811842) in % of texts:  1.0\n",
      "word  ('det', 3183713) in % of texts:  1.0\n",
      "word  ('sig', 2310128) in % of texts:  1.0\n",
      "word  ('ett', 2109138) in % of texts:  1.0\n",
      "word  ('icke', 1802716) in % of texts:  1.0\n",
      "word  ('har', 1649863) in % of texts:  1.0\n",
      "word  ('han', 1503086) in % of texts:  1.0\n",
      "word  ('eller', 1233506) in % of texts:  1.0\n",
      "word  ('samt', 1219247) in % of texts:  1.0\n",
      "word  ('man', 1206344) in % of texts:  1.0\n",
      "word  ('jag', 1062656) in % of texts:  1.0\n",
      "word  ('under', 1055095) in % of texts:  1.0\n",
      "word  ('vid', 1039063) in % of texts:  1.0\n",
      "word  ('sin', 1004965) in % of texts:  1.0\n",
      "word  ('hos', 995370) in % of texts:  1.0\n",
      "word  ('från', 959604) in % of texts:  1.0\n",
      "word  ('denna', 956351) in % of texts:  1.0\n",
      "word  ('wid', 952880) in % of texts:  1.0\n",
      "word  ('men', 925147) in % of texts:  1.0\n",
      "word  ('genom', 844444) in % of texts:  1.0\n",
      "word  ('alla', 831918) in % of texts:  1.0\n",
      "word  ('frän', 813767) in % of texts:  1.0\n",
      "word  ('hade', 785526) in % of texts:  1.0\n",
      "word  ('detta', 732097) in % of texts:  1.0\n",
      "word  ('efter', 694893) in % of texts:  1.0\n",
      "word  ('uti', 680761) in % of texts:  1.0\n",
      "word  ('skulle', 657775) in % of texts:  1.0\n",
      "word  ('der', 646706) in % of texts:  1.0\n",
      "word  ('utan', 626782) in % of texts:  1.0\n",
      "word  ('Den', 626016) in % of texts:  1.0\n",
      "word  ('Helsingfors', 607595) in % of texts:  1.0\n",
      "word  ('andra', 599951) in % of texts:  1.0\n",
      "word  ('kan', 597889) in % of texts:  1.0\n",
      "word  ('dem', 592168) in % of texts:  1.0\n",
      "word  ('mig', 580478) in % of texts:  1.0\n",
      "word  ('honom', 573149) in % of texts:  1.0\n",
      "word  ('hans', 543260) in % of texts:  1.0\n",
      "word  ('sina', 539187) in % of texts:  1.0\n",
      "word  ('Det', 536371) in % of texts:  1.0\n",
      "word  ('äro', 534454) in % of texts:  1.0\n",
      "word  ('var', 530142) in % of texts:  1.0\n",
      "word  ('hon', 524905) in % of texts:  1.0\n",
      "word  ('amp', 475606) in % of texts:  1.0\n",
      "word  ('skall', 473403) in % of texts:  1.0\n",
      "word  ('inom', 470686) in % of texts:  1.0\n",
      "word  ('dessa', 461492) in % of texts:  1.0\n",
      "word  ('sitt', 443264) in % of texts:  1.0\n",
      "word  ('ännu', 430115) in % of texts:  1.0\n",
      "word  ('kunna', 421768) in % of texts:  1.0\n",
      "word  ('dag', 418803) in % of texts:  1.0\n",
      "word  ('såsom', 406519) in % of texts:  1.0\n",
      "word  ('allt', 405076) in % of texts:  1.0\n",
      "word  ('alt', 402579) in % of texts:  1.0\n",
      "word  ('ben', 402074) in % of texts:  1.0\n",
      "word  ('samma', 400584) in % of texts:  1.0\n",
      "word  ('tid', 390264) in % of texts:  1.0\n",
      "word  ('war', 389736) in % of texts:  1.0\n",
      "word  ('dock', 380408) in % of texts:  1.0\n",
      "word  ('ock', 377000) in % of texts:  1.0\n",
      "word  ('emot', 368488) in % of texts:  1.0\n",
      "word  ('mot', 367618) in % of texts:  1.0\n",
      "word  ('endast', 364765) in % of texts:  1.0\n",
      "word  ('här', 359137) in % of texts:  1.0\n",
      "word  ('min', 358888) in % of texts:  1.0\n",
      "word  ('vara', 356621) in % of texts:  1.0\n",
      "word  ('mycket', 352310) in % of texts:  1.0\n",
      "word  ('hafva', 345068) in % of texts:  0.8181818181818182\n",
      "word  ('kunde', 342128) in % of texts:  1.0\n",
      "word  ('redan', 341381) in % of texts:  1.0\n",
      "word  ('första', 340374) in % of texts:  1.0\n",
      "word  ('Men', 338452) in % of texts:  1.0\n",
      "word  ('del', 336532) in % of texts:  1.0\n",
      "word  ('hvilka', 336275) in % of texts:  0.7272727272727273\n",
      "word  ('rum', 334090) in % of texts:  1.0\n",
      "word  ('deras', 331668) in % of texts:  1.0\n",
      "word  ('sedan', 324953) in % of texts:  1.0\n",
      "word  ('mark', 322761) in % of texts:  1.0\n",
      "word  ('mindre', 310843) in % of texts:  1.0\n",
      "word  ('öfver', 304612) in % of texts:  1.0\n",
      "word  ('hela', 303348) in % of texts:  1.0\n",
      "word  ('blifvit', 301990) in % of texts:  0.9090909090909091\n",
      "word  ('blott', 295967) in % of texts:  1.0\n",
      "word  ('någon', 293855) in % of texts:  1.0\n",
      "word  ('Jag', 290888) in % of texts:  1.0\n",
      "word  ('dess', 288105) in % of texts:  1.0\n",
      "word  ('göra', 286541) in % of texts:  1.0\n",
      "word  ('Till', 284360) in % of texts:  1.0\n",
      "word  ('kommer', 280815) in % of texts:  1.0\n",
      "word  ('äfven', 278450) in % of texts:  0.9090909090909091\n",
      "word  ('mera', 275024) in % of texts:  1.0\n",
      "word  ('all', 271434) in % of texts:  1.0\n",
      "word  ('Han', 269801) in % of texts:  1.0\n",
      "word  ('större', 262922) in % of texts:  1.0\n",
      "word  ('ifrån', 261234) in % of texts:  1.0\n",
      "word  ('följande', 258352) in % of texts:  1.0\n",
      "word  ('dagar', 255681) in % of texts:  1.0\n",
      "word  ('nya', 253870) in % of texts:  1.0\n",
      "word  ('hafwa', 250836) in % of texts:  1.0\n",
      "word  ('Finland', 250493) in % of texts:  1.0\n",
      "word  ('några', 247621) in % of texts:  1.0\n",
      "word  ('Petersburg', 245318) in % of texts:  1.0\n",
      "word  ('hvilken', 243065) in % of texts:  0.7272727272727273\n",
      "word  ('skola', 242775) in % of texts:  1.0\n",
      "word  ('wara', 241358) in % of texts:  1.0\n",
      "word  ('stora', 240557) in % of texts:  1.0\n",
      "word  ('henne', 239810) in % of texts:  1.0\n",
      "word  ('något', 238751) in % of texts:  1.0\n",
      "word  ('För', 236114) in % of texts:  1.0\n",
      "word  ('upp', 227113) in % of texts:  1.0\n",
      "word  ('for', 225061) in % of texts:  1.0\n",
      "word  ('komma', 224874) in % of texts:  1.0\n",
      "word  ('enligt', 221909) in % of texts:  1.0\n",
      "word  ('blifwit', 221220) in % of texts:  1.0\n",
      "word  ('äfwen', 220057) in % of texts:  1.0\n",
      "word  ('socken', 218704) in % of texts:  1.0\n",
      "word  ('annat', 216534) in % of texts:  1.0\n",
      "word  ('Och', 215349) in % of texts:  1.0\n",
      "word  ('Åbo', 214134) in % of texts:  1.0\n",
      "word  ('oss', 212415) in % of texts:  1.0\n",
      "word  ('Wiborg', 210947) in % of texts:  1.0\n",
      "word  ('varit', 207372) in % of texts:  1.0\n",
      "word  ('hennes', 206172) in % of texts:  1.0\n",
      "word  ('stor', 205918) in % of texts:  1.0\n",
      "word  ('öfwer', 205747) in % of texts:  1.0\n",
      "word  ('Juni', 204738) in % of texts:  0.9090909090909091\n",
      "word  ('stad', 204598) in % of texts:  1.0\n",
      "word  ('annan', 203396) in % of texts:  1.0\n",
      "word  ('Maj', 203347) in % of texts:  1.0\n",
      "word  ('Abo', 201310) in % of texts:  1.0\n",
      "word  ('staden', 200849) in % of texts:  1.0\n",
      "word  ('sätt', 200191) in % of texts:  1.0\n",
      "word  ('hwilka', 198793) in % of texts:  1.0\n",
      "word  ('måste', 198412) in % of texts:  1.0\n",
      "word  ('mer', 196716) in % of texts:  1.0\n",
      "word  ('tre', 195354) in % of texts:  1.0\n",
      "word  ('Stockholm', 194014) in % of texts:  1.0\n",
      "word  ('väl', 193151) in % of texts:  1.0\n",
      "word  ('Paris', 192647) in % of texts:  1.0\n",
      "word  ('Man', 191329) in % of texts:  1.0\n",
      "word  ('lör', 191066) in % of texts:  1.0\n",
      "word  ('London', 190101) in % of texts:  1.0\n",
      "word  ('hvarje', 189492) in % of texts:  0.6363636363636364\n",
      "word  ('bör', 189420) in % of texts:  1.0\n",
      "word  ('före', 186380) in % of texts:  1.0\n",
      "word  ('bland', 184894) in % of texts:  1.0\n",
      "word  ('jemte', 184457) in % of texts:  1.0\n",
      "word  ('barn', 183810) in % of texts:  1.0\n",
      "word  ('stall', 181920) in % of texts:  1.0\n",
      "word  ('emellan', 181309) in % of texts:  1.0\n",
      "word  ('finska', 180740) in % of texts:  0.8181818181818182\n",
      "word  ('ingen', 180673) in % of texts:  1.0\n",
      "word  ('personer', 180487) in % of texts:  1.0\n",
      "word  ('sade', 179667) in % of texts:  1.0\n",
      "word  ('landet', 177190) in % of texts:  1.0\n",
      "word  ('anledning', 177159) in % of texts:  1.0\n",
      "word  ('närmare', 175540) in % of texts:  1.0\n",
      "word  ('genast', 173448) in % of texts:  1.0\n",
      "word  ('torde', 172341) in % of texts:  1.0\n",
      "word  ('ord', 171821) in % of texts:  1.0\n",
      "word  ('omkring', 171590) in % of texts:  1.0\n",
      "word  ('kop', 171198) in % of texts:  1.0\n",
      "word  ('April', 171062) in % of texts:  1.0\n",
      "word  ('Herr', 170015) in % of texts:  1.0\n",
      "word  ('dagen', 168211) in % of texts:  1.0\n",
      "word  ('huru', 165822) in % of texts:  1.0\n",
      "word  ('rätt', 165319) in % of texts:  1.0\n",
      "word  ('Ett', 163773) in % of texts:  1.0\n",
      "word  ('gärd', 163278) in % of texts:  1.0\n",
      "word  ('helt', 163221) in % of texts:  1.0\n",
      "word  ('mellan', 162654) in % of texts:  1.0\n",
      "word  ('gärden', 161461) in % of texts:  1.0\n",
      "word  ('blef', 159782) in % of texts:  1.0\n",
      "word  ('förut', 157023) in % of texts:  1.0\n",
      "word  ('Juli', 154296) in % of texts:  0.9090909090909091\n",
      "word  ('sjelf', 154256) in % of texts:  1.0\n",
      "word  ('emedan', 153474) in % of texts:  1.0\n",
      "word  ('hvad', 152997) in % of texts:  0.6363636363636364\n",
      "word  ('hwad', 152470) in % of texts:  1.0\n",
      "word  ('Wasa', 151982) in % of texts:  1.0\n",
      "word  ('när', 151112) in % of texts:  1.0\n",
      "word  ('dennes', 150538) in % of texts:  1.0\n",
      "word  ('finnes', 149909) in % of texts:  1.0\n",
      "word  ('Mars', 149071) in % of texts:  0.9090909090909091\n",
      "word  ('von', 146859) in % of texts:  1.0\n",
      "word  ('Johan', 146426) in % of texts:  1.0\n",
      "word  ('hvilket', 145204) in % of texts:  0.7272727272727273\n",
      "word  ('god', 142937) in % of texts:  1.0\n",
      "word  ('pris', 142532) in % of texts:  1.0\n",
      "word  ('Med', 141437) in % of texts:  1.0\n",
      "word  ('fom', 141312) in % of texts:  1.0\n",
      "word  ('lill', 141074) in % of texts:  1.0\n",
      "word  ('September', 140390) in % of texts:  1.0\n",
      "word  ('lika', 139541) in % of texts:  1.0\n",
      "word  ('böra', 138927) in % of texts:  1.0\n",
      "word  ('säsom', 138543) in % of texts:  1.0\n",
      "word  ('warit', 138312) in % of texts:  1.0\n",
      "word  ('manad', 137720) in % of texts:  1.0\n",
      "word  ('Finlands', 137382) in % of texts:  1.0\n",
      "word  ('densamma', 137225) in % of texts:  1.0\n",
      "word  ('först', 136626) in % of texts:  1.0\n",
      "word  ('dig', 136609) in % of texts:  1.0\n",
      "word  ('nog', 136537) in % of texts:  1.0\n",
      "word  ('penni', 136490) in % of texts:  0.9090909090909091\n",
      "word  ('snart', 136372) in % of texts:  1.0\n",
      "word  ('Hans', 136278) in % of texts:  1.0\n",
      "word  ('wäl', 135804) in % of texts:  1.0\n",
      "word  ('fall', 135195) in % of texts:  1.0\n",
      "word  ('gamla', 134818) in % of texts:  1.0\n",
      "word  ('allmänna', 133305) in % of texts:  1.0\n",
      "word  ('denne', 133066) in % of texts:  1.0\n",
      "word  ('Finska', 132951) in % of texts:  1.0\n",
      "word  ('mcd', 130963) in % of texts:  1.0\n",
      "word  ('land', 130713) in % of texts:  1.0\n",
      "word  ('namn', 129433) in % of texts:  1.0\n",
      "word  ('dels', 128927) in % of texts:  1.0\n",
      "word  ('början', 128583) in % of texts:  1.0\n",
      "word  ('hwilken', 128184) in % of texts:  1.0\n",
      "word  ('vore', 128047) in % of texts:  1.0\n",
      "word  ('Carl', 127409) in % of texts:  1.0\n",
      "word  ('borde', 127282) in % of texts:  1.0\n",
      "word  ('också', 127242) in % of texts:  1.0\n",
      "word  ('Närmare', 125113) in % of texts:  0.9090909090909091\n",
      "word  ('sista', 125030) in % of texts:  1.0\n",
      "word  ('afseende', 124423) in % of texts:  1.0\n",
      "word  ('bet', 124390) in % of texts:  1.0\n",
      "word  ('November', 123846) in % of texts:  1.0\n",
      "word  ('aldrig', 123729) in % of texts:  1.0\n",
      "word  ('voro', 123476) in % of texts:  1.0\n",
      "word  ('gjort', 123290) in % of texts:  1.0\n",
      "word  ('ganska', 122722) in % of texts:  1.0\n",
      "word  ('Att', 122573) in % of texts:  1.0\n",
      "word  ('gar', 122241) in % of texts:  1.0\n",
      "word  ('Augusti', 121993) in % of texts:  0.9090909090909091\n",
      "word  ('hwarje', 121792) in % of texts:  1.0\n",
      "word  ('regeringen', 121661) in % of texts:  1.0\n",
      "word  ('åter', 121390) in % of texts:  0.9090909090909091\n",
      "word  ('län', 121074) in % of texts:  1.0\n",
      "word  ('sådant', 120847) in % of texts:  1.0\n",
      "word  ('vill', 120742) in % of texts:  1.0\n",
      "word  ('stället', 120741) in % of texts:  1.0\n",
      "word  ('sta', 120052) in % of texts:  1.0\n",
      "word  ('Äbo', 119439) in % of texts:  1.0\n",
      "word  ('Enligt', 119425) in % of texts:  1.0\n",
      "word  ('alltid', 119177) in % of texts:  1.0\n"
     ]
    }
   ],
   "source": [
    "fin.buildFeatures()"
   ]
  },
  {
   "cell_type": "code",
   "execution_count": 44,
   "metadata": {
    "scrolled": true
   },
   "outputs": [
    {
     "name": "stdout",
     "output_type": "stream",
     "text": [
      "word  ('och', 8797507) in % of texts:  1.0\n",
      "word  ('att', 4338934) in % of texts:  1.0\n",
      "word  ('till', 4184704) in % of texts:  1.0\n",
      "word  ('den', 3773970) in % of texts:  1.0\n",
      "word  ('för', 3011790) in % of texts:  1.0\n",
      "word  ('med', 2494393) in % of texts:  1.0\n",
      "word  ('som', 2305741) in % of texts:  1.0\n",
      "word  ('det', 2141029) in % of texts:  1.0\n",
      "word  ('ett', 1543461) in % of texts:  1.0\n",
      "word  ('sig', 1369393) in % of texts:  1.0\n",
      "word  ('han', 1081186) in % of texts:  1.0\n",
      "word  ('har', 1077902) in % of texts:  1.0\n",
      "word  ('samt', 945320) in % of texts:  1.0\n",
      "word  ('icke', 904895) in % of texts:  1.0\n",
      "word  ('från', 882296) in % of texts:  1.0\n",
      "word  ('under', 837031) in % of texts:  1.0\n",
      "word  ('wid', 832402) in % of texts:  1.0\n",
      "word  ('eller', 821835) in % of texts:  1.0\n",
      "word  ('hos', 811937) in % of texts:  1.0\n",
      "word  ('jag', 800365) in % of texts:  1.0\n",
      "word  ('man', 758882) in % of texts:  1.0\n",
      "word  ('men', 671261) in % of texts:  1.0\n",
      "word  ('vid', 666384) in % of texts:  1.0\n",
      "word  ('frän', 654518) in % of texts:  1.0\n",
      "word  ('denna', 583260) in % of texts:  1.0\n",
      "word  ('sin', 577196) in % of texts:  1.0\n",
      "word  ('alla', 553403) in % of texts:  1.0\n",
      "word  ('efter', 532099) in % of texts:  1.0\n",
      "word  ('hade', 522491) in % of texts:  1.0\n",
      "word  ('genom', 519064) in % of texts:  1.0\n",
      "word  ('detta', 472657) in % of texts:  1.0\n",
      "word  ('kan', 447824) in % of texts:  1.0\n",
      "word  ('öre', 409764) in % of texts:  1.0\n",
      "word  ('sorn', 407462) in % of texts:  1.0\n",
      "word  ('uti', 396147) in % of texts:  1.0\n",
      "word  ('var', 393346) in % of texts:  1.0\n",
      "word  ('der', 388632) in % of texts:  1.0\n",
      "word  ('hon', 384239) in % of texts:  1.0\n",
      "word  ('norrköping', 378385) in % of texts:  0.9333333333333333\n",
      "word  ('andra', 376357) in % of texts:  1.0\n",
      "word  ('honom', 365111) in % of texts:  1.0\n",
      "word  ('mot', 361097) in % of texts:  1.0\n",
      "word  ('hans', 359062) in % of texts:  1.0\n",
      "word  ('äro', 351217) in % of texts:  1.0\n",
      "word  ('utan', 346834) in % of texts:  1.0\n",
      "word  ('oell', 333007) in % of texts:  0.9333333333333333\n",
      "word  ('stockholm', 332647) in % of texts:  1.0\n",
      "word  ('kunna', 322937) in % of texts:  1.0\n",
      "word  ('mig', 321992) in % of texts:  1.0\n",
      "word  ('skulle', 321479) in % of texts:  1.0\n",
      "word  ('sedan', 309044) in % of texts:  1.0\n",
      "word  ('sör', 304908) in % of texts:  1.0\n",
      "word  ('örn', 303451) in % of texts:  1.0\n",
      "word  ('inom', 302929) in % of texts:  1.0\n",
      "word  ('dag', 301058) in % of texts:  1.0\n",
      "word  ('nied', 294427) in % of texts:  1.0\n",
      "word  ('sina', 292191) in % of texts:  1.0\n",
      "word  ('sitt', 286358) in % of texts:  1.0\n",
      "word  ('dessa', 284020) in % of texts:  1.0\n",
      "word  ('här', 283330) in % of texts:  1.0\n",
      "word  ('samma', 277006) in % of texts:  1.0\n",
      "word  ('allt', 275820) in % of texts:  1.0\n",
      "word  ('nya', 273405) in % of texts:  1.0\n",
      "word  ('war', 270538) in % of texts:  1.0\n",
      "word  ('mycket', 249260) in % of texts:  1.0\n",
      "word  ('ben', 248206) in % of texts:  1.0\n",
      "word  ('dem', 246469) in % of texts:  1.0\n",
      "word  ('rum', 246349) in % of texts:  1.0\n",
      "word  ('rdr', 242291) in % of texts:  0.8666666666666667\n",
      "word  ('lund', 239111) in % of texts:  1.0\n",
      "word  ('herr', 232302) in % of texts:  1.0\n",
      "word  ('mindre', 232225) in % of texts:  1.0\n",
      "word  ('större', 231304) in % of texts:  1.0\n",
      "word  ('wara', 231217) in % of texts:  1.0\n",
      "word  ('maj', 231181) in % of texts:  0.9333333333333333\n",
      "word  ('dagar', 230317) in % of texts:  1.0\n",
      "word  ('stora', 223067) in % of texts:  1.0\n",
      "word  ('endast', 220887) in % of texts:  1.0\n",
      "word  ('skall', 220854) in % of texts:  1.0\n",
      "word  ('dock', 217364) in % of texts:  1.0\n",
      "word  ('tid', 216891) in % of texts:  1.0\n",
      "word  ('första', 213906) in % of texts:  1.0\n",
      "word  ('såsom', 205809) in % of texts:  1.0\n",
      "word  ('april', 205237) in % of texts:  1.0\n",
      "word  ('kommer', 204592) in % of texts:  1.0\n",
      "word  ('ännu', 203276) in % of texts:  1.0\n",
      "word  ('del', 202645) in % of texts:  1.0\n",
      "word  ('min', 200429) in % of texts:  1.0\n",
      "word  ('oktober', 199806) in % of texts:  0.9333333333333333\n",
      "word  ('pris', 197341) in % of texts:  1.0\n",
      "word  ('hwilka', 196788) in % of texts:  1.0\n",
      "word  ('kongl', 194424) in % of texts:  1.0\n",
      "word  ('staden', 192485) in % of texts:  1.0\n",
      "word  ('torde', 189982) in % of texts:  1.0\n",
      "word  ('hela', 188732) in % of texts:  1.0\n",
      "word  ('vara', 187989) in % of texts:  1.0\n",
      "word  ('hafva', 186777) in % of texts:  1.0\n",
      "word  ('öfver', 186290) in % of texts:  1.0\n",
      "word  ('kunde', 185045) in % of texts:  1.0\n",
      "word  ('komma', 183299) in % of texts:  1.0\n",
      "word  ('äfven', 183006) in % of texts:  1.0\n",
      "word  ('genast', 174908) in % of texts:  1.0\n",
      "word  ('hafwa', 173081) in % of texts:  1.0\n",
      "word  ('enligt', 172577) in % of texts:  1.0\n",
      "word  ('någon', 172379) in % of texts:  1.0\n",
      "word  ('alt', 172244) in % of texts:  1.0\n",
      "word  ('något', 170246) in % of texts:  1.0\n",
      "word  ('lill', 169763) in % of texts:  1.0\n",
      "word  ('kronor', 169735) in % of texts:  0.9333333333333333\n",
      "word  ('följande', 169159) in % of texts:  1.0\n",
      "word  ('priser', 167193) in % of texts:  1.0\n",
      "word  ('närmare', 166493) in % of texts:  1.0\n",
      "word  ('dennes', 165397) in % of texts:  0.9333333333333333\n",
      "word  ('deras', 163813) in % of texts:  1.0\n",
      "word  ('göra', 161937) in % of texts:  1.0\n",
      "word  ('hvad', 161284) in % of texts:  1.0\n",
      "word  ('stor', 161224) in % of texts:  1.0\n",
      "word  ('sätt', 160445) in % of texts:  1.0\n",
      "word  ('flera', 160084) in % of texts:  1.0\n",
      "word  ('redan', 158227) in % of texts:  1.0\n",
      "word  ('norrköpings', 156817) in % of texts:  0.9333333333333333\n",
      "word  ('gamla', 156665) in % of texts:  1.0\n",
      "word  ('hwilken', 152887) in % of texts:  1.0\n",
      "word  ('dagen', 152477) in % of texts:  1.0\n",
      "word  ('omkring', 152350) in % of texts:  1.0\n",
      "word  ('bland', 151882) in % of texts:  1.0\n",
      "word  ('blott', 151507) in % of texts:  1.0\n",
      "word  ('malmö', 150844) in % of texts:  1.0\n",
      "word  ('god', 150619) in % of texts:  1.0\n",
      "word  ('mars', 150531) in % of texts:  1.0\n",
      "word  ('undertecknad', 150087) in % of texts:  0.9333333333333333\n",
      "word  ('äfwen', 149945) in % of texts:  1.0\n",
      "word  ('hvarje', 148841) in % of texts:  0.8\n",
      "word  ('finnes', 147400) in % of texts:  1.0\n",
      "word  ('blifwit', 147238) in % of texts:  0.9333333333333333\n",
      "word  ('öfwer', 146856) in % of texts:  1.0\n",
      "word  ('upp', 145461) in % of texts:  1.0\n",
      "word  ('carl', 145018) in % of texts:  1.0\n",
      "word  ('några', 144478) in % of texts:  1.0\n",
      "word  ('henne', 144263) in % of texts:  1.0\n",
      "word  ('juni', 142568) in % of texts:  1.0\n",
      "word  ('hennes', 142171) in % of texts:  1.0\n",
      "word  ('personer', 141413) in % of texts:  1.0\n",
      "word  ('juli', 141013) in % of texts:  1.0\n",
      "word  ('nästa', 140646) in % of texts:  1.0\n",
      "word  ('ock', 139490) in % of texts:  1.0\n",
      "word  ('jemte', 139256) in % of texts:  1.0\n",
      "word  ('hvilka', 139090) in % of texts:  0.9333333333333333\n",
      "word  ('stall', 138540) in % of texts:  1.0\n",
      "word  ('hvilken', 138356) in % of texts:  1.0\n",
      "word  ('emot', 136750) in % of texts:  1.0\n",
      "word  ('ooh', 135789) in % of texts:  0.6666666666666666\n",
      "word  ('mellan', 134472) in % of texts:  1.0\n",
      "word  ('wäl', 133396) in % of texts:  1.0\n",
      "word  ('dito', 132348) in % of texts:  1.0\n",
      "word  ('hwad', 131918) in % of texts:  1.0\n",
      "word  ('boktryckeriet', 131593) in % of texts:  0.9333333333333333\n",
      "word  ('kök', 130649) in % of texts:  1.0\n",
      "word  ('barn', 129290) in % of texts:  1.0\n",
      "word  ('när', 128347) in % of texts:  1.0\n",
      "word  ('ingen', 126712) in % of texts:  1.0\n",
      "word  ('godt', 126443) in % of texts:  1.0\n",
      "word  ('annat', 126156) in % of texts:  1.0\n",
      "word  ('väl', 125412) in % of texts:  1.0\n",
      "word  ('warit', 124050) in % of texts:  1.0\n",
      "word  ('dels', 120351) in % of texts:  1.0\n",
      "word  ('lager', 119576) in % of texts:  1.0\n",
      "word  ('mera', 119066) in % of texts:  1.0\n",
      "word  ('torget', 117120) in % of texts:  1.0\n",
      "word  ('härstädes', 117109) in % of texts:  1.0\n",
      "word  ('förut', 116933) in % of texts:  1.0\n",
      "word  ('tre', 116755) in % of texts:  1.0\n",
      "word  ('annan', 116593) in % of texts:  1.0\n",
      "word  ('september', 115809) in % of texts:  1.0\n",
      "word  ('före', 115433) in % of texts:  1.0\n",
      "word  ('varit', 114865) in % of texts:  0.9333333333333333\n",
      "word  ('auktion', 114297) in % of texts:  0.9333333333333333\n",
      "word  ('plats', 112507) in % of texts:  1.0\n",
      "word  ('stadens', 112261) in % of texts:  0.9333333333333333\n",
      "word  ('mer', 111358) in % of texts:  1.0\n",
      "word  ('ali', 110331) in % of texts:  1.0\n",
      "word  ('kapten', 110212) in % of texts:  0.7333333333333333\n",
      "word  ('sjelf', 109930) in % of texts:  1.0\n",
      "word  ('all', 108362) in % of texts:  1.0\n",
      "word  ('blifvit', 108248) in % of texts:  1.0\n",
      "word  ('januari', 108172) in % of texts:  1.0\n",
      "word  ('säsom', 108154) in % of texts:  1.0\n",
      "word  ('december', 108145) in % of texts:  1.0\n",
      "word  ('fru', 106729) in % of texts:  1.0\n",
      "word  ('goda', 106389) in % of texts:  1.0\n",
      "word  ('carlskrona', 106131) in % of texts:  0.8666666666666667\n",
      "word  ('hyra', 105324) in % of texts:  1.0\n",
      "word  ('dess', 105095) in % of texts:  0.9333333333333333\n",
      "word  ('hwarje', 104855) in % of texts:  0.9333333333333333\n",
      "word  ('bör', 104511) in % of texts:  1.0\n",
      "word  ('augusti', 104457) in % of texts:  0.9333333333333333\n",
      "word  ('göteborg', 103516) in % of texts:  0.8666666666666667\n",
      "word  ('tiden', 101183) in % of texts:  1.0\n",
      "word  ('par', 101089) in % of texts:  1.0\n",
      "word  ('anledning', 100231) in % of texts:  1.0\n",
      "word  ('finnas', 99968) in % of texts:  1.0\n",
      "word  ('skola', 99256) in % of texts:  1.0\n",
      "word  ('herrar', 99114) in % of texts:  1.0\n",
      "word  ('salu', 98506) in % of texts:  1.0\n",
      "word  ('hwilket', 98238) in % of texts:  1.0\n",
      "word  ('billigt', 98032) in % of texts:  1.0\n",
      "word  ('stället', 97573) in % of texts:  1.0\n",
      "word  ('helt', 97424) in % of texts:  1.0\n",
      "word  ('månad', 97292) in % of texts:  0.9333333333333333\n",
      "word  ('härmed', 96585) in % of texts:  1.0\n",
      "word  ('billiga', 96565) in % of texts:  0.9333333333333333\n",
      "word  ('början', 95144) in % of texts:  1.0\n",
      "word  ('von', 94880) in % of texts:  1.0\n",
      "word  ('nägon', 94806) in % of texts:  1.0\n",
      "word  ('nästkommande', 94788) in % of texts:  1.0\n",
      "word  ('sista', 94325) in % of texts:  0.9333333333333333\n",
      "word  ('stort', 94322) in % of texts:  1.0\n",
      "word  ('snart', 93711) in % of texts:  1.0\n",
      "word  ('lika', 93061) in % of texts:  1.0\n",
      "word  ('gärd', 92874) in % of texts:  1.0\n",
      "word  ('november', 92112) in % of texts:  1.0\n",
      "word  ('blef', 91644) in % of texts:  1.0\n",
      "word  ('februari', 91226) in % of texts:  0.9333333333333333\n",
      "word  ('lördagen', 91081) in % of texts:  1.0\n",
      "word  ('huset', 91059) in % of texts:  1.0\n",
      "word  ('hus', 91035) in % of texts:  1.0\n",
      "word  ('emellertid', 90884) in % of texts:  0.8666666666666667\n",
      "word  ('nog', 90425) in % of texts:  1.0\n",
      "word  ('socken', 90318) in % of texts:  0.9333333333333333\n",
      "word  ('andersson', 89630) in % of texts:  1.0\n",
      "word  ('meddelar', 89519) in % of texts:  1.0\n",
      "word  ('ester', 89314) in % of texts:  1.0\n",
      "word  ('allmänna', 88726) in % of texts:  1.0\n",
      "word  ('oss', 87961) in % of texts:  1.0\n",
      "word  ('ord', 87631) in % of texts:  1.0\n",
      "word  ('mäste', 87494) in % of texts:  1.0\n",
      "word  ('norra', 87130) in % of texts:  1.0\n",
      "word  ('son', 87095) in % of texts:  1.0\n",
      "word  ('kontor', 86548) in % of texts:  0.6666666666666666\n",
      "word  ('går', 86412) in % of texts:  1.0\n",
      "word  ('derefter', 86396) in % of texts:  1.0\n",
      "word  ('rätt', 86143) in % of texts:  1.0\n",
      "word  ('arbete', 85986) in % of texts:  1.0\n",
      "word  ('afton', 85897) in % of texts:  1.0\n",
      "word  ('parti', 85075) in % of texts:  0.9333333333333333\n",
      "word  ('afgår', 84631) in % of texts:  0.9333333333333333\n",
      "word  ('linköping', 84446) in % of texts:  0.8666666666666667\n",
      "word  ('ocb', 84376) in % of texts:  0.9333333333333333\n",
      "word  ('aldrig', 84347) in % of texts:  1.0\n",
      "word  ('paris', 84237) in % of texts:  1.0\n"
     ]
    }
   ],
   "source": [
    "swe.buildFeatures()"
   ]
  },
  {
   "cell_type": "code",
   "execution_count": 45,
   "metadata": {},
   "outputs": [
    {
     "data": {
      "image/png": "[encoded data removed]",
      "text/plain": [
       "<Figure size 432x288 with 1 Axes>"
      ]
     },
     "metadata": {
      "needs_background": "light"
     },
     "output_type": "display_data"
    },
    {
     "data": {
      "image/png": "[encoded data removed]",
      "text/plain": [
       "<Figure size 432x288 with 1 Axes>"
      ]
     },
     "metadata": {
      "needs_background": "light"
     },
     "output_type": "display_data"
    }
   ],
   "source": [
    "similarity = [1-spatial.distance.cosine(fin.allFeatize[0], fin.allFeatize[i]) for i in range(len(fin.allFeatize))]\n",
    "plt.plot(similarity)\n",
    "plt.title(\"Finnish similarity over time\")\n",
    "plt.show()\n",
    "\n",
    "similarity = [1-spatial.distance.cosine(swe.allFeatize[0], swe.allFeatize[i]) for i in range(len(swe.allFeatize))]\n",
    "plt.plot(similarity)\n",
    "plt.title(\"Swedish Similarity over time\")\n",
    "plt.show()"
   ]
  },
  {
   "cell_type": "code",
   "execution_count": 46,
   "metadata": {},
   "outputs": [],
   "source": [
    "pca = PCA(n_components=4)\n",
    "pca_result= pca.fit_transform(fin.allFeatize)"
   ]
  },
  {
   "cell_type": "code",
   "execution_count": 51,
   "metadata": {},
   "outputs": [
    {
     "data": {
      "image/png": "[encoded data removed]",
      "text/plain": [
       "<Figure size 432x288 with 1 Axes>"
      ]
     },
     "metadata": {
      "needs_background": "light"
     },
     "output_type": "display_data"
    }
   ],
   "source": [
    "x = pca_result[:, 0]\n",
    "y = pca_result[:,1]\n",
    "plt.scatter(x, y)\n",
    "for i in range(len(list(fin.allCounters.keys()))):\n",
    "    plt.annotate(list(fin.allCounters.keys())[i], (x[i], y[i]))\n",
    "plt.show()"
   ]
  },
  {
   "cell_type": "markdown",
   "metadata": {},
   "source": [
    "## Project with both languages"
   ]
  },
  {
   "cell_type": "code",
   "execution_count": 54,
   "metadata": {},
   "outputs": [],
   "source": [
    "# Find top 250 most frequent words across both langauges, based on frequency\n",
    "totalSwed = sum([s[1] for s in swe.topWordsCounter])\n",
    "freqsSwed = []\n",
    "for c in swe.topWordsCounter:\n",
    "    freqsSwed += [(c[0], c[1]/totalSwed)]\n",
    "    \n",
    "totalFin = sum([s[1] for s in fin.topWordsCounter])\n",
    "freqsFin = []\n",
    "for c in fin.topWordsCounter:\n",
    "    freqsFin += [(c[0], c[1]/totalFin)]"
   ]
  },
  {
   "cell_type": "code",
   "execution_count": 55,
   "metadata": {},
   "outputs": [],
   "source": [
    "combined = Counter()\n",
    "for word in freqsSwed: \n",
    "    combined[word[0]] += word[1]\n",
    "for word in freqsFin: \n",
    "    combined[word[0]] += word[1]"
   ]
  },
  {
   "cell_type": "code",
   "execution_count": 56,
   "metadata": {},
   "outputs": [],
   "source": [
    "sweAllFeatize = []\n",
    "for counter in list(swe.allCounters.values()):\n",
    "    lenDoc = sum(counter.values())\n",
    "    #featize = np.array([counter[combined[i][0]] for i in range(len(combined))])\n",
    "    featize = np.array([counter[k] for k,v in combined.items()])\n",
    "    featize = np.divide(featize, lenDoc)\n",
    "    sweAllFeatize += [featize]\n",
    "    \n",
    "finAllFeatize = []\n",
    "for counter in list(fin.allCounters.values()):\n",
    "    lenDoc = sum(counter.values())\n",
    "    #featize = np.array([counter[combined[i][0]] for i in range(len(combined))])\n",
    "    featize = np.array([counter[k] for k,v in combined.items()])\n",
    "    featize = np.divide(featize, lenDoc)\n",
    "    finAllFeatize += [featize]"
   ]
  },
  {
   "cell_type": "code",
   "execution_count": 57,
   "metadata": {},
   "outputs": [
    {
     "name": "stdout",
     "output_type": "stream",
     "text": [
      "15 11\n"
     ]
    }
   ],
   "source": [
    "print(len(sweAllFeatize), len(finAllFeatize))"
   ]
  },
  {
   "cell_type": "code",
   "execution_count": 58,
   "metadata": {},
   "outputs": [],
   "source": [
    "pca = PCA(n_components=4)\n",
    "pca_result= pca.fit_transform(sweAllFeatize + finAllFeatize)"
   ]
  },
  {
   "cell_type": "code",
   "execution_count": 64,
   "metadata": {},
   "outputs": [
    {
     "data": {
      "image/png": "[encoded data removed]",
      "text/plain": [
       "<Figure size 432x288 with 1 Axes>"
      ]
     },
     "metadata": {
      "needs_background": "light"
     },
     "output_type": "display_data"
    }
   ],
   "source": [
    "x_swe = pca_result[:15, 0]\n",
    "x_fin = pca_result[15:,0]\n",
    "y_swe = pca_result[:15,1]\n",
    "y_fin = pca_result[15:,1]\n",
    "plt.scatter(x_swe, y_swe, label=\"Swedish\")\n",
    "for i in range(len(list(swe.allCounters.keys()))):\n",
    "    plt.annotate(list(swe.allCounters.keys())[i], (x_swe[i], y_swe[i]))\n",
    "    \n",
    "plt.scatter(x_fin, y_fin, label=\"Finnish\")\n",
    "for i in range(len(list(fin.allCounters.keys()))):\n",
    "    plt.annotate(list(fin.allCounters.keys())[i], (x_fin[i], y_fin[i]))\n",
    "plt.legend()\n",
    "\n",
    "plt.show()"
   ]
  },
  {
   "cell_type": "markdown",
   "metadata": {},
   "source": [
    "# Qualitative Comparison\n",
    "* \"wid\" in Finnish vs. \"vid\" in Swedish- are they same word/different spelling? \n",
    "* från(F) vs. frän (S)\n",
    "* Helsingfors (F), stockholm (S) & norrkoping\n",
    "* Words I'm not sure about: amp, Det, sina, ore, \n",
    "* Generally similar words, but different orderings\n",
    "\n",
    "Finnish loanwords found [here](https://www.quora.com/Could-someone-point-to-Finnish-influences-in-the-Swedish-language). Every Finnish loanword is more common in the Finnish text than Swedish texts. Some example words: \n",
    "* Kola: \"to die\", the closest in frequency across both dialects. Likely the most common lonaword. \n",
    "    * Kola more common in Swedish, but can find the \"kuolla\" (Finnish) spelling in Finnish text as well.\n",
    "* Mukja: the endagered fish vendace. Usually used only in the remote northern parts of Sweden. \n",
    "* Memma: adopted from the Finnish word mammi, a Finnish easter pudding. The loanword was created when the pudding was exported to Sweden. \n",
    "* [Pojke vs. poika](https://blogs.transparent.com/swedish/loan-words-in-swedish/): pojke is the Swedish loanword for the Finnish word poika. \"Pojke\" is more common in the Swedish texts, and \"poika\" is more common in the Finnish texts. \n",
    "* Talko vs. talkoot: Loanword from Finnish word talkoot. A case where talko is more common in F-S, but the Finnish formulation isn't. Counter-example to pojke vs. poika. \n",
    "\n",
    "* [Bane](https://en.wiktionary.org/wiki/Category:Swedish_terms_borrowed_from_Old_Swedish): Borrowed from Old Swedish and became popular again around 17th century, so both langauges seem to use it a lot\n",
    "* [Mink](https://en.wiktionary.org/wiki/mink#Swedish): Slightly more common in Finnish texts, where mink is actually grown. "
   ]
  },
  {
   "cell_type": "code",
   "execution_count": 65,
   "metadata": {},
   "outputs": [
    {
     "name": "stdout",
     "output_type": "stream",
     "text": [
      "['och', 'att', 'den', 'till', 'för', 'som', 'med', 'det', 'sig', 'ett', 'icke', 'har', 'han', 'eller', 'samt', 'man', 'jag', 'under', 'vid', 'sin', 'hos', 'från', 'denna', 'wid', 'men', 'genom', 'alla', 'frän', 'hade', 'detta', 'efter', 'uti', 'skulle', 'der', 'utan', 'Den', 'Helsingfors', 'andra', 'kan', 'dem', 'mig', 'honom', 'hans', 'sina', 'Det', 'äro', 'var', 'hon', 'amp', 'skall'] \n",
      " ['och', 'att', 'till', 'den', 'för', 'med', 'som', 'det', 'ett', 'sig', 'han', 'har', 'samt', 'icke', 'från', 'under', 'wid', 'eller', 'hos', 'jag', 'man', 'men', 'vid', 'frän', 'denna', 'sin', 'alla', 'efter', 'hade', 'genom', 'detta', 'kan', 'öre', 'sorn', 'uti', 'var', 'der', 'hon', 'norrköping', 'andra', 'honom', 'mot', 'hans', 'äro', 'utan', 'oell', 'stockholm', 'kunna', 'mig', 'skulle']\n"
     ]
    }
   ],
   "source": [
    "print(fin.topWordsTotal[:50], \"\\n\", swe.topWordsTotal[:50])"
   ]
  },
  {
   "cell_type": "code",
   "execution_count": 66,
   "metadata": {},
   "outputs": [
    {
     "name": "stdout",
     "output_type": "stream",
     "text": [
      "in F but not S:  {'amp', 'Det', 'sina', 'skall', 'Helsingfors', 'Den', 'dem'}\n",
      "in S but not F:  {'stockholm', 'norrköping', 'öre', 'kunna', 'oell', 'sorn', 'mot'}\n"
     ]
    }
   ],
   "source": [
    "print(\"in F but not S: \", set(fin.topWordsTotal[:50]).difference(swe.topWordsTotal[:50]))\n",
    "print(\"in S but not F: \", set(swe.topWordsTotal[:50]).difference(fin.topWordsTotal[:50]) )"
   ]
  },
  {
   "cell_type": "markdown",
   "metadata": {},
   "source": [
    "## Finnish Loanwords to Swedish "
   ]
  },
  {
   "cell_type": "code",
   "execution_count": 90,
   "metadata": {},
   "outputs": [
    {
     "name": "stdout",
     "output_type": "stream",
     "text": [
      "Finnish loanword freq kola: \tFinnish: 6.824681 \tSwedish: 7.035089 \t [False]\n",
      "Finnish loanword freq kuolla: \tFinnish: 0.064160 \tSwedish: 0.000000 \t [True]\n"
     ]
    }
   ],
   "source": [
    "\"\"\"candidates = [\"kola\", \"kova\", \"pärta\", \"pulka\", \"tojs\", \"mujka\", \"memma\", \"rapakivi\", \"koling\"]\n",
    "candidates = [\"pojke\", \"poika\"]\n",
    "candidates = [\"kängor\", \"hyvens\", \"kola\", \"rappakalja\", \"memma\", \"sisu\", \"pulka\"]\n",
    "candidates = [\"krabbis\", \"håsa\", \"mink\", \"mujka\", \"pjäxa\", \"talko\", \"talkoot\"]\"\"\"\n",
    "candidates =  [\"kola\", \"kuolla\"]\n",
    "for cand in candidates: \n",
    "    #finFreq = sum([log(c[cand]+1)-log(sum(c.values())) for c in fin.allCounters.values()])\n",
    "    #sweFreq = sum([log(c[cand]+1)-log(sum(c.values())) for c in swe.allCounters.values()])\n",
    "    finCount = sum([c[cand] for c in fin.allCounters.values()])\n",
    "    sweCount = sum([c[cand] for c in swe.allCounters.values()])\n",
    "    finTotal = sum([sum(c.values()) for c in fin.allCounters.values()])\n",
    "    sweTotal = sum([sum(c.values()) for c in fin.allCounters.values()])\n",
    "    #print([c[cand] for c in fin.allCounters.values()])\n",
    "    #print([(c[cand])/(sum(c.values()))*100000 for c in fin.allCounters.values()])\n",
    "    \n",
    "    #print([c[cand] for c in swe.allCounters.values()])\n",
    "    #print([(c[cand])/(sum(c.values()))*100000 for c in swe.allCounters.values()])\n",
    "    finFreq = (log(finCount+1)-log(finTotal))\n",
    "    sweFreq = (log(sweCount+1)-log(sweTotal))\n",
    "    \n",
    "    finFreq = sum([(c[cand])/(sum(c.values()))*100000 for c in fin.allCounters.values()])\n",
    "    sweFreq = sum([(c[cand])/(sum(c.values()))*100000 for c in swe.allCounters.values()])\n",
    "    print(\"Finnish loanword freq {:s}: \\tFinnish: {:4f} \\tSwedish: {:4f} \\t [{:s}]\".format(\n",
    "        cand, finFreq, sweFreq, str(finFreq > sweFreq)\n",
    "    ))"
   ]
  },
  {
   "cell_type": "markdown",
   "metadata": {},
   "source": [
    "## Trying to pinpoint the \"start\" of a loanword"
   ]
  },
  {
   "cell_type": "code",
   "execution_count": 119,
   "metadata": {},
   "outputs": [
    {
     "name": "stdout",
     "output_type": "stream",
     "text": [
      "Finnish loanword freq memma: \tFinnish: 0.404544 \tSwedish: 0.000000 \t [True]\n"
     ]
    }
   ],
   "source": [
    "candidates =  [\"memma\"]\n",
    "candidates_d = {k: [] for k in candidates}\n",
    "for cand in candidates: \n",
    "    finCount = [c[cand] for c in fin.allCounters.values()]\n",
    "    sweCount = [c[cand] for c in swe.allCounters.values()]\n",
    "    finTotal = [sum(c.values()) for c in fin.allCounters.values()]\n",
    "    sweTotal = [sum(c.values()) for c in fin.allCounters.values()]\n",
    "    #print([(c[cand])/(sum(c.values()))*100000 for c in swe.allCounters.values()])\n",
    "    finFreqs = [(c[cand])/(sum(c.values()))*100000 for c in fin.allCounters.values()]\n",
    "    sweFreqs = [(c[cand])/(sum(c.values()))*100000 for c in swe.allCounters.values()]\n",
    "    \n",
    "    #print(finFreqs, sweFreqs)\n",
    "    \n",
    "    finFreq = sum([(c[cand])/(sum(c.values()))*100000 for c in fin.allCounters.values()])\n",
    "    sweFreq = sum([(c[cand])/(sum(c.values()))*100000 for c in swe.allCounters.values()])\n",
    "    candidates_d[cand] = (finFreqs, sweFreqs)\n",
    "    print(\"Finnish loanword freq {:s}: \\tFinnish: {:4f} \\tSwedish: {:4f} \\t [{:s}]\".format(\n",
    "        cand, finFreq, sweFreq, str(finFreq > sweFreq)\n",
    "    ))"
   ]
  },
  {
   "cell_type": "code",
   "execution_count": 120,
   "metadata": {},
   "outputs": [
    {
     "data": {
      "text/plain": [
       "<matplotlib.legend.Legend at 0x7fcedb623250>"
      ]
     },
     "execution_count": 120,
     "metadata": {},
     "output_type": "execute_result"
    },
    {
     "data": {
      "image/png": "[encoded data removed]",
      "text/plain": [
       "<Figure size 432x288 with 1 Axes>"
      ]
     },
     "metadata": {
      "needs_background": "light"
     },
     "output_type": "display_data"
    }
   ],
   "source": [
    "plt.scatter(list(fin.allCounters.keys()), candidates_d['memma'][0], label=\"Finnish-memma\")\n",
    "plt.scatter(list(swe.allCounters.keys()), candidates_d['memma'][1], label=\"Swedish-memma\")\n",
    "plt.legend()"
   ]
  },
  {
   "cell_type": "markdown",
   "metadata": {},
   "source": [
    "## Overlapping Words"
   ]
  },
  {
   "cell_type": "code",
   "execution_count": 67,
   "metadata": {},
   "outputs": [],
   "source": [
    "totalFin = [sum(c) for c in fin.allCounters.values()]\n",
    "totalSwe = sum(swe.allCounters.values(), Counter())"
   ]
  },
  {
   "cell_type": "code",
   "execution_count": 19,
   "metadata": {},
   "outputs": [],
   "source": [
    "overlaps = []\n",
    "simToBase = []\n",
    "for i in range(len(fin.commonWords)-1):\n",
    "    overlaps += [(set(fin.commonWords[i]).intersection(fin.commonWords[i+1]))]"
   ]
  },
  {
   "cell_type": "code",
   "execution_count": 46,
   "metadata": {},
   "outputs": [],
   "source": [
    "for i in range(len(fin.commonWords)-1):\n",
    "    decade = list(fin.commonWords.keys())[i]\n",
    "    overlaps += [fin.commonWords[decade].intersection(decade)]"
   ]
  },
  {
   "cell_type": "code",
   "execution_count": 67,
   "metadata": {},
   "outputs": [
    {
     "name": "stdout",
     "output_type": "stream",
     "text": [
      "Finnish overlap words 63: \n",
      "{'han', 'hos', 'sin', 'frän', 'emot', 'med', 'sig', 'kunde', 'hon', 'genom', 'mera', 'hans', 'Den', 'endast', 'tid', 'denna', 'detta', 'äro', 'kan', 'som', 'efter', 'wid', 'första', 'alt', 'del', 'uti', 'alla', 'deras', 'och', 'all', 'den', 'Det', 'här', 'till', 'sedan', 'men', 'sina', 'min', 'icke', 'har', 'kunna', 'hade', 'der', 'andra', 'under', 'för', 'dag', 'samma', 'eller', 'man', 'honom', 'dem', 'Men', 'hela', 'ock', 'ännu', 'mig', 'utan', 'jag', 'att', 'samt', 'det', 'amp'}\n",
      "Swedish overlap words 36: \n",
      "{'han', 'hos', 'sin', 'sig', 'med', 'hans', 'denna', 'detta', 'äro', 'kan', 'som', 'efter', 'stockholm', 'alla', 'och', 'den', 'här', 'till', 'sedan', 'icke', 'har', 'hade', 'andra', 'under', 'för', 'samma', 'eller', 'man', 'honom', 'mig', 'ett', 'utan', 'jag', 'samt', 'det', 'men'}\n"
     ]
    }
   ],
   "source": [
    "finEntireOverlap = set.intersection(*[set(v) for k, v in fin.commonWords.items()])\n",
    "sweEntireOverlap = set.intersection(*[set(v) for k, v in swe.commonWords.items()])\n",
    "\n",
    "print(\"Finnish overlap words {:d}: \\n{:s}\".format(len(finEntireOverlap), str(finEntireOverlap)))\n",
    "print(\"Swedish overlap words {:d}: \\n{:s}\".format(len(sweEntireOverlap), str(sweEntireOverlap)))"
   ]
  }
 ],
 "metadata": {
  "kernelspec": {
   "display_name": "Python 3",
   "language": "python",
   "name": "python3"
  },
  "language_info": {
   "codemirror_mode": {
    "name": "ipython",
    "version": 3
   },
   "file_extension": ".py",
   "mimetype": "text/x-python",
   "name": "python",
   "nbconvert_exporter": "python",
   "pygments_lexer": "ipython3",
   "version": "3.7.6"
  }
 },
 "nbformat": 4,
 "nbformat_minor": 4
}
